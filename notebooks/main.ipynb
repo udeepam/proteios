{
 "cells": [
  {
   "cell_type": "markdown",
   "metadata": {},
   "source": [
    "# Testing"
   ]
  },
  {
   "cell_type": "code",
   "execution_count": 1,
   "metadata": {},
   "outputs": [
    {
     "name": "stdout",
     "output_type": "stream",
     "text": [
      "/Users/udeepa/Documents/UCL/Term 2/COMP0082 Bioinformatics/project\n"
     ]
    }
   ],
   "source": [
    "%cd .."
   ]
  },
  {
   "cell_type": "code",
   "execution_count": 2,
   "metadata": {},
   "outputs": [],
   "source": [
    "import numpy as np\n",
    "import matplotlib.pyplot as plt\n",
    "import collections\n",
    "import pickle\n",
    "\n",
    "from Bio import SeqIO\n",
    "\n",
    "from proteios.preprocess import preprocess, split_data\n",
    "from proteios.featurise import Featuriser"
   ]
  },
  {
   "cell_type": "code",
   "execution_count": 3,
   "metadata": {},
   "outputs": [],
   "source": [
    "np.random.seed(0)"
   ]
  },
  {
   "cell_type": "markdown",
   "metadata": {},
   "source": [
    "### Get Data"
   ]
  },
  {
   "cell_type": "code",
   "execution_count": null,
   "metadata": {},
   "outputs": [],
   "source": [
    "input_path = \"input_data/\""
   ]
  },
  {
   "cell_type": "code",
   "execution_count": 4,
   "metadata": {},
   "outputs": [
    {
     "name": "stdout",
     "output_type": "stream",
     "text": [
      "{'cytosolic': 0, 'secreted': 1, 'mitochondrial': 2, 'nuclear': 3}\n",
      "{'cytosolic': 3004, 'secreted': 1605, 'mitochondrial': 1299, 'nuclear': 3314, 'total': 9222}\n",
      "Number of test data points:   20\n"
     ]
    }
   ],
   "source": [
    "classes = [\"cytosolic\", \"secreted\", \"mitochondrial\", \"nuclear\"]\n",
    "\n",
    "# Get dictionaries for labels\n",
    "label2index = {key:i for i, key in enumerate(classes)}\n",
    "index2label = dict(zip(label2index.values(), label2index.keys())) \n",
    "\n",
    "# Get data\n",
    "datasets = dict()\n",
    "for label in classes:\n",
    "    datasets[label] = list(SeqIO.parse(input_path+label+\".fasta\", \"fasta\"))\n",
    "# Get test data\n",
    "blind_test_x = list(SeqIO.parse(input_path+\"blind_test.fasta\", \"fasta\"))\n",
    "\n",
    "# Get number of examples in each category\n",
    "counts = {key:len(val) for i, (key,val) in enumerate(datasets.items())}\n",
    "counts[\"total\"] = sum([len(sublist) for keys, sublist in datasets.items()])\n",
    "print(label2index)\n",
    "print(counts)\n",
    "print(\"Number of test data points:  \", len(blind_test_x))"
   ]
  },
  {
   "cell_type": "code",
   "execution_count": 5,
   "metadata": {},
   "outputs": [
    {
     "name": "stdout",
     "output_type": "stream",
     "text": [
      "Processing cytosolic\n",
      "Data removed:  80\n",
      "Processing secreted\n",
      "Data removed:  19\n",
      "Processing mitochondrial\n",
      "Data removed:  2\n",
      "Processing nuclear\n",
      "Data removed:  66\n",
      "Total Before:  9222\n",
      "Total After:   9055\n",
      "\n",
      "Processing tmp\n",
      "Data removed:  0\n",
      "Total Before:  20\n",
      "Total After:   20\n",
      "\n",
      "Training data size:  8148\n",
      "Test data size:      907\n",
      "Distribution train:  {1: 1427, 2: 1167, 3: 2923, 0: 2631}\n",
      "Distribution test:   {3: 325, 0: 293, 1: 159, 2: 130}\n"
     ]
    }
   ],
   "source": [
    "# Preprocess the data\n",
    "full_x, full_y = preprocess(datasets, \n",
    "                            label2index=label2index,\n",
    "                            trim_outliers=True,\n",
    "                            max_length=2000)\n",
    "print()\n",
    "blind_test_x = preprocess(blind_test_x, \n",
    "                          trim_outliers=True,\n",
    "                          max_length=2000)\n",
    "# Split the data\n",
    "train_x, train_y, test_x, test_y = split_data(full_x, \n",
    "                                              full_y,\n",
    "                                              train_size=0.9)\n",
    "print()\n",
    "print(\"Training data size: \", len(train_y))\n",
    "print(\"Test data size:     \", len(test_y))\n",
    "print(\"Distribution train: \", dict(collections.Counter(train_y)))\n",
    "print(\"Distribution test:  \", dict(collections.Counter(test_y)))"
   ]
  },
  {
   "cell_type": "markdown",
   "metadata": {},
   "source": [
    "### Get Features"
   ]
  },
  {
   "cell_type": "code",
   "execution_count": 6,
   "metadata": {},
   "outputs": [],
   "source": [
    "# Get dictionaries\n",
    "dicts = dict()\n",
    "dicts['kd'] = pickle.load(open(\"input_data/scales/kd.pickle\",\"rb\"))\n",
    "dicts['flex'] = pickle.load(open(\"input_data/scales/flex.pickle\",\"rb\"))\n",
    "dicts['hw'] = pickle.load(open(\"input_data/scales/hw.pickle\",\"rb\"))\n",
    "dicts['em'] = pickle.load(open(\"input_data/scales/em.pickle\",\"rb\"))\n",
    "dicts['ja'] = pickle.load(open(\"input_data/scales/ja.pickle\",\"rb\"))\n",
    "dicts['diwv'] = pickle.load(open(\"input_data/scales/diwv.pickle\",\"rb\"))  "
   ]
  },
  {
   "cell_type": "code",
   "execution_count": 7,
   "metadata": {},
   "outputs": [],
   "source": [
    "featuriser = Featuriser(train_x, dicts)\n",
    "full_x  = featuriser.transform(full_x)\n",
    "blind_test_x  = featuriser.transform(blind_test_x)\n",
    "train_x = featuriser.transform(train_x)\n",
    "test_x  = featuriser.transform(test_x)"
   ]
  },
  {
   "cell_type": "code",
   "execution_count": 8,
   "metadata": {},
   "outputs": [
    {
     "data": {
      "text/html": [
       "<div>\n",
       "<style scoped>\n",
       "    .dataframe tbody tr th:only-of-type {\n",
       "        vertical-align: middle;\n",
       "    }\n",
       "\n",
       "    .dataframe tbody tr th {\n",
       "        vertical-align: top;\n",
       "    }\n",
       "\n",
       "    .dataframe thead th {\n",
       "        text-align: right;\n",
       "    }\n",
       "</style>\n",
       "<table border=\"1\" class=\"dataframe\">\n",
       "  <thead>\n",
       "    <tr style=\"text-align: right;\">\n",
       "      <th></th>\n",
       "      <th>length</th>\n",
       "      <th>molecular_weight</th>\n",
       "      <th>isoelectric_point</th>\n",
       "      <th>aromaticity</th>\n",
       "      <th>instability_index</th>\n",
       "      <th>gravy</th>\n",
       "      <th>reduced</th>\n",
       "      <th>oxidised</th>\n",
       "      <th>helix</th>\n",
       "      <th>turn</th>\n",
       "      <th>...</th>\n",
       "      <th>last_50_M</th>\n",
       "      <th>last_50_N</th>\n",
       "      <th>last_50_P</th>\n",
       "      <th>last_50_Q</th>\n",
       "      <th>last_50_R</th>\n",
       "      <th>last_50_S</th>\n",
       "      <th>last_50_T</th>\n",
       "      <th>last_50_V</th>\n",
       "      <th>last_50_W</th>\n",
       "      <th>last_50_Y</th>\n",
       "    </tr>\n",
       "  </thead>\n",
       "  <tbody>\n",
       "    <tr>\n",
       "      <th>0</th>\n",
       "      <td>-0.807171</td>\n",
       "      <td>-0.800542</td>\n",
       "      <td>-0.761953</td>\n",
       "      <td>0.246225</td>\n",
       "      <td>-0.007813</td>\n",
       "      <td>0.311954</td>\n",
       "      <td>-0.510107</td>\n",
       "      <td>-0.509475</td>\n",
       "      <td>0.230534</td>\n",
       "      <td>0.013088</td>\n",
       "      <td>...</td>\n",
       "      <td>0.2</td>\n",
       "      <td>0.2</td>\n",
       "      <td>0.3</td>\n",
       "      <td>0.2</td>\n",
       "      <td>0.1</td>\n",
       "      <td>0.8</td>\n",
       "      <td>0.1</td>\n",
       "      <td>0.1</td>\n",
       "      <td>0.1</td>\n",
       "      <td>0.3</td>\n",
       "    </tr>\n",
       "    <tr>\n",
       "      <th>1</th>\n",
       "      <td>-1.098216</td>\n",
       "      <td>-1.107380</td>\n",
       "      <td>1.167160</td>\n",
       "      <td>-1.513737</td>\n",
       "      <td>1.150809</td>\n",
       "      <td>0.443974</td>\n",
       "      <td>-0.902971</td>\n",
       "      <td>-0.908272</td>\n",
       "      <td>-0.674945</td>\n",
       "      <td>-0.371425</td>\n",
       "      <td>...</td>\n",
       "      <td>0.1</td>\n",
       "      <td>0.2</td>\n",
       "      <td>0.2</td>\n",
       "      <td>0.5</td>\n",
       "      <td>0.5</td>\n",
       "      <td>0.2</td>\n",
       "      <td>0.4</td>\n",
       "      <td>0.2</td>\n",
       "      <td>0.2</td>\n",
       "      <td>0.0</td>\n",
       "    </tr>\n",
       "    <tr>\n",
       "      <th>2</th>\n",
       "      <td>0.202142</td>\n",
       "      <td>0.221958</td>\n",
       "      <td>-0.809271</td>\n",
       "      <td>-0.093574</td>\n",
       "      <td>0.500089</td>\n",
       "      <td>0.933848</td>\n",
       "      <td>-0.436614</td>\n",
       "      <td>-0.430473</td>\n",
       "      <td>1.109309</td>\n",
       "      <td>-1.164094</td>\n",
       "      <td>...</td>\n",
       "      <td>0.0</td>\n",
       "      <td>0.0</td>\n",
       "      <td>0.8</td>\n",
       "      <td>0.4</td>\n",
       "      <td>0.1</td>\n",
       "      <td>0.4</td>\n",
       "      <td>0.1</td>\n",
       "      <td>0.2</td>\n",
       "      <td>0.0</td>\n",
       "      <td>0.1</td>\n",
       "    </tr>\n",
       "    <tr>\n",
       "      <th>3</th>\n",
       "      <td>0.044604</td>\n",
       "      <td>0.012434</td>\n",
       "      <td>1.293986</td>\n",
       "      <td>-1.175704</td>\n",
       "      <td>0.859814</td>\n",
       "      <td>0.045258</td>\n",
       "      <td>-0.447959</td>\n",
       "      <td>-0.429495</td>\n",
       "      <td>-1.130226</td>\n",
       "      <td>0.388235</td>\n",
       "      <td>...</td>\n",
       "      <td>0.4</td>\n",
       "      <td>0.3</td>\n",
       "      <td>1.2</td>\n",
       "      <td>0.1</td>\n",
       "      <td>0.1</td>\n",
       "      <td>0.3</td>\n",
       "      <td>0.5</td>\n",
       "      <td>0.3</td>\n",
       "      <td>0.1</td>\n",
       "      <td>0.0</td>\n",
       "    </tr>\n",
       "    <tr>\n",
       "      <th>4</th>\n",
       "      <td>0.896378</td>\n",
       "      <td>0.981413</td>\n",
       "      <td>-0.896776</td>\n",
       "      <td>1.066006</td>\n",
       "      <td>-0.433639</td>\n",
       "      <td>0.395809</td>\n",
       "      <td>0.507445</td>\n",
       "      <td>0.505802</td>\n",
       "      <td>1.612078</td>\n",
       "      <td>-0.364626</td>\n",
       "      <td>...</td>\n",
       "      <td>0.2</td>\n",
       "      <td>0.1</td>\n",
       "      <td>0.0</td>\n",
       "      <td>0.2</td>\n",
       "      <td>0.5</td>\n",
       "      <td>0.2</td>\n",
       "      <td>0.1</td>\n",
       "      <td>0.5</td>\n",
       "      <td>0.1</td>\n",
       "      <td>0.2</td>\n",
       "    </tr>\n",
       "  </tbody>\n",
       "</table>\n",
       "<p>5 rows × 79 columns</p>\n",
       "</div>"
      ],
      "text/plain": [
       "     length  molecular_weight  isoelectric_point  aromaticity  \\\n",
       "0 -0.807171         -0.800542          -0.761953     0.246225   \n",
       "1 -1.098216         -1.107380           1.167160    -1.513737   \n",
       "2  0.202142          0.221958          -0.809271    -0.093574   \n",
       "3  0.044604          0.012434           1.293986    -1.175704   \n",
       "4  0.896378          0.981413          -0.896776     1.066006   \n",
       "\n",
       "   instability_index     gravy   reduced  oxidised     helix      turn  ...  \\\n",
       "0          -0.007813  0.311954 -0.510107 -0.509475  0.230534  0.013088  ...   \n",
       "1           1.150809  0.443974 -0.902971 -0.908272 -0.674945 -0.371425  ...   \n",
       "2           0.500089  0.933848 -0.436614 -0.430473  1.109309 -1.164094  ...   \n",
       "3           0.859814  0.045258 -0.447959 -0.429495 -1.130226  0.388235  ...   \n",
       "4          -0.433639  0.395809  0.507445  0.505802  1.612078 -0.364626  ...   \n",
       "\n",
       "   last_50_M  last_50_N  last_50_P  last_50_Q  last_50_R  last_50_S  \\\n",
       "0        0.2        0.2        0.3        0.2        0.1        0.8   \n",
       "1        0.1        0.2        0.2        0.5        0.5        0.2   \n",
       "2        0.0        0.0        0.8        0.4        0.1        0.4   \n",
       "3        0.4        0.3        1.2        0.1        0.1        0.3   \n",
       "4        0.2        0.1        0.0        0.2        0.5        0.2   \n",
       "\n",
       "   last_50_T  last_50_V  last_50_W  last_50_Y  \n",
       "0        0.1        0.1        0.1        0.3  \n",
       "1        0.4        0.2        0.2        0.0  \n",
       "2        0.1        0.2        0.0        0.1  \n",
       "3        0.5        0.3        0.1        0.0  \n",
       "4        0.1        0.5        0.1        0.2  \n",
       "\n",
       "[5 rows x 79 columns]"
      ]
     },
     "execution_count": 8,
     "metadata": {},
     "output_type": "execute_result"
    }
   ],
   "source": [
    "train_x.head()[:20]"
   ]
  },
  {
   "cell_type": "markdown",
   "metadata": {},
   "source": [
    "# Models"
   ]
  },
  {
   "cell_type": "code",
   "execution_count": 9,
   "metadata": {},
   "outputs": [],
   "source": [
    "from sklearn.metrics import accuracy_score, precision_score, recall_score, f1_score\n",
    "from sklearn.metrics import roc_auc_score, confusion_matrix, classification_report, matthews_corrcoef"
   ]
  },
  {
   "cell_type": "code",
   "execution_count": 10,
   "metadata": {},
   "outputs": [],
   "source": [
    "from sklearn.model_selection import GridSearchCV\n",
    "from sklearn.model_selection import StratifiedKFold\n",
    "from sklearn.metrics import make_scorer"
   ]
  },
  {
   "cell_type": "markdown",
   "metadata": {},
   "source": [
    "Models to try:\n",
    "1. SVM\n",
    "2. Random Forest\n",
    "3. Gaussian Naive Bayes\n",
    "4. HMM\n",
    "5. MLP\n",
    "6. LDA\n",
    "7. KDE\n",
    "8. KNN"
   ]
  },
  {
   "cell_type": "code",
   "execution_count": 11,
   "metadata": {},
   "outputs": [],
   "source": [
    "def cross_validate(model, x, y, params, metric, n_splits=5):\n",
    "    \"\"\"\n",
    "    \n",
    "    Parameters:\n",
    "    -----------\n",
    "    model : `sklearn` model\n",
    "        The model to cross validate.\n",
    "    x : `list`\n",
    "        The training data.\n",
    "    y : `list`\n",
    "        The corresponding labels.\n",
    "    params : `dict`\n",
    "        The hyperparameters to cross-validate.\n",
    "    metric : `sklearn.metrics.scorer._PredictScorer`\n",
    "        The metric to use to assess performance.\n",
    "    n_splits : `int`\n",
    "        The number of splits for k-fold cross-validation.\n",
    "    \n",
    "    Returns:\n",
    "    --------\n",
    "    \n",
    "    \"\"\"\n",
    "    # Define a CV strategy\n",
    "    cv = StratifiedKFold(n_splits=n_splits,\n",
    "                         shuffle=True,\n",
    "                         random_state=0)    \n",
    "\n",
    "    # Define how we are going to fit our model parameters using the CV, hyperparameters and what evaluation metric\n",
    "    grid_search = GridSearchCV(model,\n",
    "                               param_grid=params,\n",
    "                               verbose=5,\n",
    "                               scoring=metric,\n",
    "                               n_jobs=1,\n",
    "                               refit=True,\n",
    "                               cv=cv)\n",
    "\n",
    "    # Fit the model parameters using the earlier defined search\n",
    "    random_search_res = grid_search.fit(x, y)   \n",
    "    return random_search_res"
   ]
  },
  {
   "cell_type": "code",
   "execution_count": 19,
   "metadata": {},
   "outputs": [],
   "source": [
    "# Use accuracy scoring\n",
    "acc_metric = make_scorer(accuracy_score)"
   ]
  },
  {
   "cell_type": "markdown",
   "metadata": {},
   "source": [
    "### Test using Random Forest"
   ]
  },
  {
   "cell_type": "code",
   "execution_count": 14,
   "metadata": {
    "scrolled": true
   },
   "outputs": [
    {
     "name": "stdout",
     "output_type": "stream",
     "text": [
      "Best performance: 0.654997239094423\n",
      "With the hyperparameters: {'n_estimators': 1000}\n"
     ]
    }
   ],
   "source": [
    "from sklearn.ensemble import RandomForestClassifier\n",
    "\n",
    "# Define some hyperparameters we are going to test\n",
    "param_dist = {\"n_estimators\": [100,200,400,600,800,1000,1200,1400,1600,1800,2000]}\n",
    "\n",
    "# Make a handle for our model (initialization or our model without fitted parameters)\n",
    "rf = RandomForestClassifier()\n",
    "\n",
    "rf_random_search_res = cross_validate(rf,\n",
    "                                      full_x,\n",
    "                                      full_y,\n",
    "                                      param_dist,\n",
    "                                      acc_metric,\n",
    "                                      5)\n",
    "\n",
    "print(\"Best performance: %s\" % (rf_random_search_res.best_score_))\n",
    "print(\"With the hyperparameters: %s\" % (rf_random_search_res.best_params_))"
   ]
  },
  {
   "cell_type": "code",
   "execution_count": 15,
   "metadata": {},
   "outputs": [
    {
     "name": "stdout",
     "output_type": "stream",
     "text": [
      "Accuracy:   0.6350606394707828\n",
      "Precision:  0.655478880490308\n",
      "Recall:     0.6401673048440386\n",
      "F1 score:   0.6472271368956263\n",
      "               precision    recall  f1-score   support\n",
      "\n",
      "    cytosolic       0.55      0.58      0.56       293\n",
      "     secreted       0.77      0.74      0.75       159\n",
      "mitochondrial       0.65      0.59      0.62       130\n",
      "      nuclear       0.64      0.65      0.65       325\n",
      "\n",
      "  avg / total       0.64      0.64      0.64       907\n",
      "\n"
     ]
    }
   ],
   "source": [
    "rf = RandomForestClassifier(n_estimators=rf_random_search_res.best_params_['n_estimators'],\n",
    "                            random_state=0)\n",
    "rf.fit(train_x, train_y)\n",
    "rf_pred = rf.predict(test_x)\n",
    "acc = accuracy_score(test_y, rf_pred)\n",
    "precision = precision_score(test_y, rf_pred, average='macro')\n",
    "recall = recall_score(test_y, rf_pred, average='macro')\n",
    "f1 = f1_score(test_y, rf_pred, average='macro')\n",
    "print(\"Accuracy:  \", acc)\n",
    "print(\"Precision: \", precision)\n",
    "print(\"Recall:    \", recall)\n",
    "print(\"F1 score:  \", f1)\n",
    "print(classification_report(test_y, rf_pred, target_names = classes))"
   ]
  },
  {
   "cell_type": "code",
   "execution_count": 16,
   "metadata": {},
   "outputs": [
    {
     "data": {
      "image/png": "[encoded data removed]",
      "text/plain": [
       "<Figure size 1440x288 with 1 Axes>"
      ]
     },
     "metadata": {
      "needs_background": "light"
     },
     "output_type": "display_data"
    }
   ],
   "source": [
    "importances = rf.feature_importances_\n",
    "std = np.std([tree.feature_importances_ for tree in rf.estimators_],\n",
    "             axis=0)\n",
    "indices = np.argsort(importances)[::-1]\n",
    "\n",
    "# Plot the feature importances of the forest\n",
    "plt.figure(figsize=(20,4))\n",
    "plt.title(\"Feature importances\")\n",
    "plt.bar(range(train_x.shape[1]), \n",
    "        importances[indices], \n",
    "        color=\"r\", yerr=std[indices], align=\"center\")\n",
    "plt.xticks(range(train_x.shape[1]), indices)\n",
    "plt.xlim([-1, train_x.shape[1]])\n",
    "plt.xlabel(\"Features\")\n",
    "plt.ylabel(\"Importance\")\n",
    "plt.grid()\n",
    "plt.show()"
   ]
  },
  {
   "cell_type": "markdown",
   "metadata": {},
   "source": [
    "### Test using MLP"
   ]
  },
  {
   "cell_type": "code",
   "execution_count": 21,
   "metadata": {
    "scrolled": true
   },
   "outputs": [
    {
     "name": "stdout",
     "output_type": "stream",
     "text": [
      "Fitting 5 folds for each of 4 candidates, totalling 20 fits\n",
      "[CV] hidden_layer_sizes=100 ..........................................\n",
      "[CV] . hidden_layer_sizes=100, score=0.6845008273579702, total=   4.0s\n",
      "[CV] hidden_layer_sizes=100 ..........................................\n"
     ]
    },
    {
     "name": "stderr",
     "output_type": "stream",
     "text": [
      "[Parallel(n_jobs=1)]: Done   1 out of   1 | elapsed:    4.0s remaining:    0.0s\n"
     ]
    },
    {
     "name": "stdout",
     "output_type": "stream",
     "text": [
      "[CV] . hidden_layer_sizes=100, score=0.6545253863134658, total=   5.7s\n",
      "[CV] hidden_layer_sizes=100 ..........................................\n"
     ]
    },
    {
     "name": "stderr",
     "output_type": "stream",
     "text": [
      "[Parallel(n_jobs=1)]: Done   2 out of   2 | elapsed:    9.8s remaining:    0.0s\n"
     ]
    },
    {
     "name": "stdout",
     "output_type": "stream",
     "text": [
      "[CV] . hidden_layer_sizes=100, score=0.6543346217559359, total=   4.7s\n",
      "[CV] hidden_layer_sizes=100 ..........................................\n"
     ]
    },
    {
     "name": "stderr",
     "output_type": "stream",
     "text": [
      "[Parallel(n_jobs=1)]: Done   3 out of   3 | elapsed:   14.5s remaining:    0.0s\n"
     ]
    },
    {
     "name": "stdout",
     "output_type": "stream",
     "text": [
      "[CV] . hidden_layer_sizes=100, score=0.6607734806629835, total=   6.2s\n",
      "[CV] hidden_layer_sizes=100 ..........................................\n"
     ]
    },
    {
     "name": "stderr",
     "output_type": "stream",
     "text": [
      "[Parallel(n_jobs=1)]: Done   4 out of   4 | elapsed:   20.8s remaining:    0.0s\n"
     ]
    },
    {
     "name": "stdout",
     "output_type": "stream",
     "text": [
      "[CV] . hidden_layer_sizes=100, score=0.6395798783858485, total=   4.6s\n",
      "[CV] hidden_layer_sizes=128 ..........................................\n",
      "[CV] . hidden_layer_sizes=128, score=0.6762272476558191, total=   7.1s\n",
      "[CV] hidden_layer_sizes=128 ..........................................\n",
      "[CV] . hidden_layer_sizes=128, score=0.6589403973509934, total=   8.5s\n",
      "[CV] hidden_layer_sizes=128 ..........................................\n",
      "[CV] . hidden_layer_sizes=128, score=0.6427388183324131, total=   5.2s\n",
      "[CV] hidden_layer_sizes=128 ..........................................\n",
      "[CV] . hidden_layer_sizes=128, score=0.6635359116022099, total=   5.9s\n",
      "[CV] hidden_layer_sizes=128 ..........................................\n",
      "[CV] . hidden_layer_sizes=128, score=0.6462133775566611, total=   5.4s\n",
      "[CV] hidden_layer_sizes=256 ..........................................\n",
      "[CV] . hidden_layer_sizes=256, score=0.6712630998345284, total=  10.4s\n",
      "[CV] hidden_layer_sizes=256 ..........................................\n",
      "[CV] . hidden_layer_sizes=256, score=0.6572847682119205, total=   9.1s\n",
      "[CV] hidden_layer_sizes=256 ..........................................\n",
      "[CV] . hidden_layer_sizes=256, score=0.6659304251794589, total=   8.9s\n",
      "[CV] hidden_layer_sizes=256 ..........................................\n",
      "[CV] . hidden_layer_sizes=256, score=0.6480662983425415, total=  11.9s\n",
      "[CV] hidden_layer_sizes=256 ..........................................\n",
      "[CV] . hidden_layer_sizes=256, score=0.6478717523493643, total=   3.8s\n",
      "[CV] hidden_layer_sizes=512 ..........................................\n",
      "[CV] . hidden_layer_sizes=512, score=0.6607832322118037, total=  18.7s\n",
      "[CV] hidden_layer_sizes=512 ..........................................\n",
      "[CV] . hidden_layer_sizes=512, score=0.6622516556291391, total=  10.7s\n",
      "[CV] hidden_layer_sizes=512 ..........................................\n",
      "[CV] . hidden_layer_sizes=512, score=0.6543346217559359, total=  14.2s\n",
      "[CV] hidden_layer_sizes=512 ..........................................\n"
     ]
    },
    {
     "name": "stderr",
     "output_type": "stream",
     "text": [
      "/anaconda3/lib/python3.6/site-packages/sklearn/neural_network/multilayer_perceptron.py:564: ConvergenceWarning: Stochastic Optimizer: Maximum iterations (200) reached and the optimization hasn't converged yet.\n",
      "  % self.max_iter, ConvergenceWarning)\n"
     ]
    },
    {
     "name": "stdout",
     "output_type": "stream",
     "text": [
      "[CV] . hidden_layer_sizes=512, score=0.6541436464088398, total=  20.9s\n",
      "[CV] hidden_layer_sizes=512 ..........................................\n",
      "[CV] . hidden_layer_sizes=512, score=0.6440022111663902, total=  16.5s\n"
     ]
    },
    {
     "name": "stderr",
     "output_type": "stream",
     "text": [
      "[Parallel(n_jobs=1)]: Done  20 out of  20 | elapsed:  3.0min finished\n"
     ]
    },
    {
     "name": "stdout",
     "output_type": "stream",
     "text": [
      "Best performance: 0.6587520706791827\n",
      "With the hyperparameters: {'hidden_layer_sizes': 100}\n"
     ]
    }
   ],
   "source": [
    "from sklearn.neural_network import MLPClassifier\n",
    "\n",
    "# Define some hyperparameters we are going to test\n",
    "param_dist = {\"hidden_layer_sizes\": [100,128,256,512]}\n",
    "\n",
    "# Make a handle for our model (initialization or our model without fitted parameters)\n",
    "mlp = MLPClassifier()\n",
    "\n",
    "mlp_random_search_res = cross_validate(mlp,\n",
    "                                       full_x,\n",
    "                                       full_y,\n",
    "                                       param_dist,\n",
    "                                       acc_metric,\n",
    "                                       5)\n",
    "\n",
    "print(\"Best performance: %s\" % (mlp_random_search_res.best_score_))\n",
    "print(\"With the hyperparameters: %s\" % (mlp_random_search_res.best_params_))"
   ]
  },
  {
   "cell_type": "code",
   "execution_count": 22,
   "metadata": {},
   "outputs": [
    {
     "name": "stdout",
     "output_type": "stream",
     "text": [
      "Accuracy:   0.6405733186328556\n",
      "Precision:  0.6640277920608803\n",
      "Recall:     0.6720964167950452\n",
      "F1 score:   0.6651901787617006\n",
      "               precision    recall  f1-score   support\n",
      "\n",
      "    cytosolic       0.54      0.62      0.58       293\n",
      "     secreted       0.74      0.75      0.75       159\n",
      "mitochondrial       0.69      0.76      0.73       130\n",
      "      nuclear       0.68      0.55      0.61       325\n",
      "\n",
      "  avg / total       0.65      0.64      0.64       907\n",
      "\n"
     ]
    }
   ],
   "source": [
    "mlp = MLPClassifier(hidden_layer_sizes=mlp_random_search_res.best_params_[\"hidden_layer_sizes\"],\n",
    "                    activation='relu',\n",
    "                    solver='adam',\n",
    "                    alpha=0.0001,\n",
    "                    batch_size='auto',\n",
    "                    learning_rate='constant',\n",
    "                    learning_rate_init=0.001,\n",
    "                    random_state=0)\n",
    "mlp.fit(train_x, train_y)\n",
    "mlp_pred = mlp.predict(test_x)\n",
    "acc = accuracy_score(test_y, mlp_pred)\n",
    "precision = precision_score(test_y, mlp_pred, average='macro')\n",
    "recall = recall_score(test_y, mlp_pred, average='macro')\n",
    "f1 = f1_score(test_y, mlp_pred, average='macro')\n",
    "print(\"Accuracy:  \", acc)\n",
    "print(\"Precision: \", precision)\n",
    "print(\"Recall:    \", recall)\n",
    "print(\"F1 score:  \", f1)\n",
    "print(classification_report(test_y, mlp_pred, target_names = classes))"
   ]
  },
  {
   "cell_type": "markdown",
   "metadata": {},
   "source": [
    "### Test using SVM"
   ]
  },
  {
   "cell_type": "code",
   "execution_count": 24,
   "metadata": {},
   "outputs": [
    {
     "name": "stdout",
     "output_type": "stream",
     "text": [
      "Fitting 5 folds for each of 20 candidates, totalling 100 fits\n",
      "[CV] C=0.01, degree=1 ................................................\n",
      "[CV] ....... C=0.01, degree=1, score=0.4942084942084942, total=   8.1s\n",
      "[CV] C=0.01, degree=1 ................................................\n"
     ]
    },
    {
     "name": "stderr",
     "output_type": "stream",
     "text": [
      "[Parallel(n_jobs=1)]: Done   1 out of   1 | elapsed:   12.6s remaining:    0.0s\n"
     ]
    },
    {
     "name": "stdout",
     "output_type": "stream",
     "text": [
      "[CV] ....... C=0.01, degree=1, score=0.4806843267108168, total=   8.1s\n",
      "[CV] C=0.01, degree=1 ................................................\n"
     ]
    },
    {
     "name": "stderr",
     "output_type": "stream",
     "text": [
      "[Parallel(n_jobs=1)]: Done   2 out of   2 | elapsed:   25.1s remaining:    0.0s\n"
     ]
    },
    {
     "name": "stdout",
     "output_type": "stream",
     "text": [
      "[CV] ....... C=0.01, degree=1, score=0.4803975704030922, total=   8.3s\n",
      "[CV] C=0.01, degree=1 ................................................\n"
     ]
    },
    {
     "name": "stderr",
     "output_type": "stream",
     "text": [
      "[Parallel(n_jobs=1)]: Done   3 out of   3 | elapsed:   37.9s remaining:    0.0s\n"
     ]
    },
    {
     "name": "stdout",
     "output_type": "stream",
     "text": [
      "[CV] ........ C=0.01, degree=1, score=0.487292817679558, total=   8.2s\n",
      "[CV] C=0.01, degree=1 ................................................\n"
     ]
    },
    {
     "name": "stderr",
     "output_type": "stream",
     "text": [
      "[Parallel(n_jobs=1)]: Done   4 out of   4 | elapsed:   50.7s remaining:    0.0s\n"
     ]
    },
    {
     "name": "stdout",
     "output_type": "stream",
     "text": [
      "[CV] ...... C=0.01, degree=1, score=0.45550027639579876, total=   8.1s\n",
      "[CV] C=0.01, degree=2 ................................................\n",
      "[CV] ....... C=0.01, degree=2, score=0.4942084942084942, total=   8.1s\n",
      "[CV] C=0.01, degree=2 ................................................\n",
      "[CV] ....... C=0.01, degree=2, score=0.4806843267108168, total=   8.1s\n",
      "[CV] C=0.01, degree=2 ................................................\n",
      "[CV] ....... C=0.01, degree=2, score=0.4803975704030922, total=   8.1s\n",
      "[CV] C=0.01, degree=2 ................................................\n",
      "[CV] ........ C=0.01, degree=2, score=0.487292817679558, total=   8.1s\n",
      "[CV] C=0.01, degree=2 ................................................\n",
      "[CV] ...... C=0.01, degree=2, score=0.45550027639579876, total=   8.2s\n",
      "[CV] C=0.01, degree=3 ................................................\n",
      "[CV] ....... C=0.01, degree=3, score=0.4942084942084942, total=   8.2s\n",
      "[CV] C=0.01, degree=3 ................................................\n",
      "[CV] ....... C=0.01, degree=3, score=0.4806843267108168, total=   8.1s\n",
      "[CV] C=0.01, degree=3 ................................................\n",
      "[CV] ....... C=0.01, degree=3, score=0.4803975704030922, total=   8.1s\n",
      "[CV] C=0.01, degree=3 ................................................\n",
      "[CV] ........ C=0.01, degree=3, score=0.487292817679558, total=   8.1s\n",
      "[CV] C=0.01, degree=3 ................................................\n",
      "[CV] ...... C=0.01, degree=3, score=0.45550027639579876, total=   8.1s\n",
      "[CV] C=0.01, degree=4 ................................................\n",
      "[CV] ....... C=0.01, degree=4, score=0.4942084942084942, total=   8.1s\n",
      "[CV] C=0.01, degree=4 ................................................\n",
      "[CV] ....... C=0.01, degree=4, score=0.4806843267108168, total=   8.1s\n",
      "[CV] C=0.01, degree=4 ................................................\n",
      "[CV] ....... C=0.01, degree=4, score=0.4803975704030922, total=   8.1s\n",
      "[CV] C=0.01, degree=4 ................................................\n",
      "[CV] ........ C=0.01, degree=4, score=0.487292817679558, total=   8.1s\n",
      "[CV] C=0.01, degree=4 ................................................\n",
      "[CV] ...... C=0.01, degree=4, score=0.45550027639579876, total=   8.1s\n",
      "[CV] C=0.01, degree=5 ................................................\n",
      "[CV] ....... C=0.01, degree=5, score=0.4942084942084942, total=   8.2s\n",
      "[CV] C=0.01, degree=5 ................................................\n",
      "[CV] ....... C=0.01, degree=5, score=0.4806843267108168, total=  10.4s\n",
      "[CV] C=0.01, degree=5 ................................................\n",
      "[CV] ....... C=0.01, degree=5, score=0.4803975704030922, total=   8.3s\n",
      "[CV] C=0.01, degree=5 ................................................\n",
      "[CV] ........ C=0.01, degree=5, score=0.487292817679558, total=   8.7s\n",
      "[CV] C=0.01, degree=5 ................................................\n",
      "[CV] ...... C=0.01, degree=5, score=0.45550027639579876, total=   8.1s\n",
      "[CV] C=0.1, degree=1 .................................................\n",
      "[CV] ........ C=0.1, degree=1, score=0.5763927192498621, total=   6.8s\n",
      "[CV] C=0.1, degree=1 .................................................\n",
      "[CV] ........ C=0.1, degree=1, score=0.5838852097130243, total=   6.9s\n",
      "[CV] C=0.1, degree=1 .................................................\n",
      "[CV] ........ C=0.1, degree=1, score=0.5698509110988405, total=   7.4s\n",
      "[CV] C=0.1, degree=1 .................................................\n",
      "[CV] ........ C=0.1, degree=1, score=0.5668508287292817, total=   8.2s\n",
      "[CV] C=0.1, degree=1 .................................................\n",
      "[CV] ......... C=0.1, degree=1, score=0.552791597567717, total=   6.8s\n",
      "[CV] C=0.1, degree=2 .................................................\n",
      "[CV] ........ C=0.1, degree=2, score=0.5763927192498621, total=   7.1s\n",
      "[CV] C=0.1, degree=2 .................................................\n",
      "[CV] ........ C=0.1, degree=2, score=0.5838852097130243, total=   6.9s\n",
      "[CV] C=0.1, degree=2 .................................................\n",
      "[CV] ........ C=0.1, degree=2, score=0.5698509110988405, total=   7.1s\n",
      "[CV] C=0.1, degree=2 .................................................\n",
      "[CV] ........ C=0.1, degree=2, score=0.5668508287292817, total=   6.7s\n",
      "[CV] C=0.1, degree=2 .................................................\n",
      "[CV] ......... C=0.1, degree=2, score=0.552791597567717, total=   6.9s\n",
      "[CV] C=0.1, degree=3 .................................................\n",
      "[CV] ........ C=0.1, degree=3, score=0.5763927192498621, total=   6.8s\n",
      "[CV] C=0.1, degree=3 .................................................\n",
      "[CV] ........ C=0.1, degree=3, score=0.5838852097130243, total=   6.8s\n",
      "[CV] C=0.1, degree=3 .................................................\n",
      "[CV] ........ C=0.1, degree=3, score=0.5698509110988405, total=   6.8s\n",
      "[CV] C=0.1, degree=3 .................................................\n",
      "[CV] ........ C=0.1, degree=3, score=0.5668508287292817, total=   6.8s\n",
      "[CV] C=0.1, degree=3 .................................................\n",
      "[CV] ......... C=0.1, degree=3, score=0.552791597567717, total=   6.7s\n",
      "[CV] C=0.1, degree=4 .................................................\n",
      "[CV] ........ C=0.1, degree=4, score=0.5763927192498621, total=   6.9s\n",
      "[CV] C=0.1, degree=4 .................................................\n",
      "[CV] ........ C=0.1, degree=4, score=0.5838852097130243, total=   6.8s\n",
      "[CV] C=0.1, degree=4 .................................................\n",
      "[CV] ........ C=0.1, degree=4, score=0.5698509110988405, total=   6.8s\n",
      "[CV] C=0.1, degree=4 .................................................\n",
      "[CV] ........ C=0.1, degree=4, score=0.5668508287292817, total=   7.4s\n",
      "[CV] C=0.1, degree=4 .................................................\n",
      "[CV] ......... C=0.1, degree=4, score=0.552791597567717, total=   6.8s\n",
      "[CV] C=0.1, degree=5 .................................................\n",
      "[CV] ........ C=0.1, degree=5, score=0.5763927192498621, total=   7.2s\n",
      "[CV] C=0.1, degree=5 .................................................\n",
      "[CV] ........ C=0.1, degree=5, score=0.5838852097130243, total=   7.2s\n",
      "[CV] C=0.1, degree=5 .................................................\n",
      "[CV] ........ C=0.1, degree=5, score=0.5698509110988405, total=   7.2s\n",
      "[CV] C=0.1, degree=5 .................................................\n",
      "[CV] ........ C=0.1, degree=5, score=0.5668508287292817, total=   7.5s\n",
      "[CV] C=0.1, degree=5 .................................................\n",
      "[CV] ......... C=0.1, degree=5, score=0.552791597567717, total=   7.4s\n",
      "[CV] C=1.0, degree=1 .................................................\n",
      "[CV] ........ C=1.0, degree=1, score=0.6442360728075014, total=   6.2s\n",
      "[CV] C=1.0, degree=1 .................................................\n",
      "[CV] ........ C=1.0, degree=1, score=0.6379690949227373, total=   5.8s\n",
      "[CV] C=1.0, degree=1 .................................................\n",
      "[CV] ........ C=1.0, degree=1, score=0.6283821093318609, total=   6.0s\n",
      "[CV] C=1.0, degree=1 .................................................\n",
      "[CV] ........ C=1.0, degree=1, score=0.6337016574585635, total=   6.0s\n",
      "[CV] C=1.0, degree=1 .................................................\n",
      "[CV] ........ C=1.0, degree=1, score=0.6108347153123272, total=   6.3s\n",
      "[CV] C=1.0, degree=2 .................................................\n",
      "[CV] ........ C=1.0, degree=2, score=0.6442360728075014, total=   7.3s\n",
      "[CV] C=1.0, degree=2 .................................................\n",
      "[CV] ........ C=1.0, degree=2, score=0.6379690949227373, total=   6.2s\n",
      "[CV] C=1.0, degree=2 .................................................\n",
      "[CV] ........ C=1.0, degree=2, score=0.6283821093318609, total=   6.0s\n",
      "[CV] C=1.0, degree=2 .................................................\n",
      "[CV] ........ C=1.0, degree=2, score=0.6337016574585635, total=   6.2s\n",
      "[CV] C=1.0, degree=2 .................................................\n",
      "[CV] ........ C=1.0, degree=2, score=0.6108347153123272, total=   5.9s\n",
      "[CV] C=1.0, degree=3 .................................................\n",
      "[CV] ........ C=1.0, degree=3, score=0.6442360728075014, total=   6.1s\n",
      "[CV] C=1.0, degree=3 .................................................\n",
      "[CV] ........ C=1.0, degree=3, score=0.6379690949227373, total=   6.8s\n",
      "[CV] C=1.0, degree=3 .................................................\n"
     ]
    },
    {
     "name": "stdout",
     "output_type": "stream",
     "text": [
      "[CV] ........ C=1.0, degree=3, score=0.6283821093318609, total=   6.2s\n",
      "[CV] C=1.0, degree=3 .................................................\n",
      "[CV] ........ C=1.0, degree=3, score=0.6337016574585635, total=   6.0s\n",
      "[CV] C=1.0, degree=3 .................................................\n",
      "[CV] ........ C=1.0, degree=3, score=0.6108347153123272, total=   6.0s\n",
      "[CV] C=1.0, degree=4 .................................................\n",
      "[CV] ........ C=1.0, degree=4, score=0.6442360728075014, total=   6.0s\n",
      "[CV] C=1.0, degree=4 .................................................\n",
      "[CV] ........ C=1.0, degree=4, score=0.6379690949227373, total=   6.3s\n",
      "[CV] C=1.0, degree=4 .................................................\n",
      "[CV] ........ C=1.0, degree=4, score=0.6283821093318609, total=   6.0s\n",
      "[CV] C=1.0, degree=4 .................................................\n",
      "[CV] ........ C=1.0, degree=4, score=0.6337016574585635, total=   6.1s\n",
      "[CV] C=1.0, degree=4 .................................................\n",
      "[CV] ........ C=1.0, degree=4, score=0.6108347153123272, total=   5.7s\n",
      "[CV] C=1.0, degree=5 .................................................\n",
      "[CV] ........ C=1.0, degree=5, score=0.6442360728075014, total=   6.0s\n",
      "[CV] C=1.0, degree=5 .................................................\n",
      "[CV] ........ C=1.0, degree=5, score=0.6379690949227373, total=   5.8s\n",
      "[CV] C=1.0, degree=5 .................................................\n",
      "[CV] ........ C=1.0, degree=5, score=0.6283821093318609, total=   5.9s\n",
      "[CV] C=1.0, degree=5 .................................................\n",
      "[CV] ........ C=1.0, degree=5, score=0.6337016574585635, total=   6.1s\n",
      "[CV] C=1.0, degree=5 .................................................\n",
      "[CV] ........ C=1.0, degree=5, score=0.6108347153123272, total=   6.2s\n",
      "[CV] C=10, degree=1 ..................................................\n",
      "[CV] ......... C=10, degree=1, score=0.6867071152785439, total=   5.5s\n",
      "[CV] C=10, degree=1 ..................................................\n",
      "[CV] ......... C=10, degree=1, score=0.6710816777041942, total=   5.6s\n",
      "[CV] C=10, degree=1 ..................................................\n",
      "[CV] ......... C=10, degree=1, score=0.6604086140254003, total=   5.6s\n",
      "[CV] C=10, degree=1 ..................................................\n",
      "[CV] ......... C=10, degree=1, score=0.6723756906077348, total=   5.5s\n",
      "[CV] C=10, degree=1 ..................................................\n",
      "[CV] ......... C=10, degree=1, score=0.6462133775566611, total=   5.7s\n",
      "[CV] C=10, degree=2 ..................................................\n",
      "[CV] ......... C=10, degree=2, score=0.6867071152785439, total=   5.7s\n",
      "[CV] C=10, degree=2 ..................................................\n",
      "[CV] ......... C=10, degree=2, score=0.6710816777041942, total=   5.9s\n",
      "[CV] C=10, degree=2 ..................................................\n",
      "[CV] ......... C=10, degree=2, score=0.6604086140254003, total=   5.6s\n",
      "[CV] C=10, degree=2 ..................................................\n",
      "[CV] ......... C=10, degree=2, score=0.6723756906077348, total=   5.8s\n",
      "[CV] C=10, degree=2 ..................................................\n",
      "[CV] ......... C=10, degree=2, score=0.6462133775566611, total=   5.5s\n",
      "[CV] C=10, degree=3 ..................................................\n",
      "[CV] ......... C=10, degree=3, score=0.6867071152785439, total=   5.8s\n",
      "[CV] C=10, degree=3 ..................................................\n",
      "[CV] ......... C=10, degree=3, score=0.6710816777041942, total=   5.5s\n",
      "[CV] C=10, degree=3 ..................................................\n",
      "[CV] ......... C=10, degree=3, score=0.6604086140254003, total=   5.8s\n",
      "[CV] C=10, degree=3 ..................................................\n",
      "[CV] ......... C=10, degree=3, score=0.6723756906077348, total=   5.6s\n",
      "[CV] C=10, degree=3 ..................................................\n",
      "[CV] ......... C=10, degree=3, score=0.6462133775566611, total=   5.6s\n",
      "[CV] C=10, degree=4 ..................................................\n",
      "[CV] ......... C=10, degree=4, score=0.6867071152785439, total=   5.8s\n",
      "[CV] C=10, degree=4 ..................................................\n",
      "[CV] ......... C=10, degree=4, score=0.6710816777041942, total=   5.4s\n",
      "[CV] C=10, degree=4 ..................................................\n",
      "[CV] ......... C=10, degree=4, score=0.6604086140254003, total=   5.3s\n",
      "[CV] C=10, degree=4 ..................................................\n",
      "[CV] ......... C=10, degree=4, score=0.6723756906077348, total=   5.8s\n",
      "[CV] C=10, degree=4 ..................................................\n",
      "[CV] ......... C=10, degree=4, score=0.6462133775566611, total=   5.5s\n",
      "[CV] C=10, degree=5 ..................................................\n",
      "[CV] ......... C=10, degree=5, score=0.6867071152785439, total=   5.5s\n",
      "[CV] C=10, degree=5 ..................................................\n",
      "[CV] ......... C=10, degree=5, score=0.6710816777041942, total=   5.4s\n",
      "[CV] C=10, degree=5 ..................................................\n",
      "[CV] ......... C=10, degree=5, score=0.6604086140254003, total=   5.0s\n",
      "[CV] C=10, degree=5 ..................................................\n",
      "[CV] ......... C=10, degree=5, score=0.6723756906077348, total=   5.0s\n",
      "[CV] C=10, degree=5 ..................................................\n",
      "[CV] ......... C=10, degree=5, score=0.6462133775566611, total=   5.2s\n"
     ]
    },
    {
     "name": "stderr",
     "output_type": "stream",
     "text": [
      "[Parallel(n_jobs=1)]: Done 100 out of 100 | elapsed: 18.1min finished\n"
     ]
    },
    {
     "name": "stdout",
     "output_type": "stream",
     "text": [
      "Best performance: 0.667366096079514\n",
      "With the hyperparameters: {'C': 10, 'degree': 1}\n"
     ]
    }
   ],
   "source": [
    "from sklearn.svm import SVC\n",
    "\n",
    "# Define some hyperparameters we are going to test\n",
    "param_dist = {\"C\": [0.01,0.1,1.0,10], \"degree\":[1,2,3,4,5]}\n",
    "\n",
    "# Make a handle for our model (initialization or our model without fitted parameters)\n",
    "svm = SVC()\n",
    "\n",
    "svm_random_search_res = cross_validate(svm,\n",
    "                                       full_x,\n",
    "                                       full_y,\n",
    "                                       param_dist,\n",
    "                                       acc_metric,\n",
    "                                       5)\n",
    "\n",
    "print(\"Best performance: %s\" % (svm_random_search_res.best_score_))\n",
    "print(\"With the hyperparameters: %s\" % (svm_random_search_res.best_params_))"
   ]
  },
  {
   "cell_type": "code",
   "execution_count": 25,
   "metadata": {},
   "outputs": [
    {
     "name": "stdout",
     "output_type": "stream",
     "text": [
      "Accuracy:   0.6295479603087101\n",
      "Precision:  0.6502584100309114\n",
      "Recall:     0.6548296817699226\n",
      "F1 score:   0.6522843543732636\n",
      "               precision    recall  f1-score   support\n",
      "\n",
      "    cytosolic       0.53      0.55      0.54       293\n",
      "     secreted       0.75      0.74      0.74       159\n",
      "mitochondrial       0.68      0.72      0.70       130\n",
      "      nuclear       0.64      0.61      0.63       325\n",
      "\n",
      "  avg / total       0.63      0.63      0.63       907\n",
      "\n"
     ]
    }
   ],
   "source": [
    "svm = SVC(C=svm_random_search_res.best_params_['C'],\n",
    "          kernel='rbf',\n",
    "          degree=svm_random_search_res.best_params_['degree'],\n",
    "          decision_function_shape='ovr',\n",
    "          probability=False)\n",
    "svm.fit(train_x, train_y)\n",
    "svm_pred = svm.predict(test_x)\n",
    "acc = accuracy_score(test_y, svm_pred)\n",
    "precision = precision_score(test_y, svm_pred, average='macro')\n",
    "recall = recall_score(test_y, svm_pred, average='macro')\n",
    "f1 = f1_score(test_y, svm_pred, average='macro')\n",
    "print(\"Accuracy:  \", acc)\n",
    "print(\"Precision: \", precision)\n",
    "print(\"Recall:    \", recall)\n",
    "print(\"F1 score:  \", f1)\n",
    "print(classification_report(test_y, svm_pred, target_names = classes))"
   ]
  },
  {
   "cell_type": "markdown",
   "metadata": {},
   "source": [
    "### Test using KNN"
   ]
  },
  {
   "cell_type": "code",
   "execution_count": 26,
   "metadata": {
    "scrolled": true
   },
   "outputs": [
    {
     "name": "stdout",
     "output_type": "stream",
     "text": [
      "Fitting 5 folds for each of 14 candidates, totalling 70 fits\n",
      "[CV] n_neighbors=1 ...................................................\n",
      "[CV] .......... n_neighbors=1, score=0.5543298400441258, total=   1.0s\n",
      "[CV] n_neighbors=1 ...................................................\n"
     ]
    },
    {
     "name": "stderr",
     "output_type": "stream",
     "text": [
      "[Parallel(n_jobs=1)]: Done   1 out of   1 | elapsed:    1.2s remaining:    0.0s\n"
     ]
    },
    {
     "name": "stdout",
     "output_type": "stream",
     "text": [
      "[CV] .......... n_neighbors=1, score=0.5584988962472406, total=   1.0s\n",
      "[CV] n_neighbors=1 ...................................................\n"
     ]
    },
    {
     "name": "stderr",
     "output_type": "stream",
     "text": [
      "[Parallel(n_jobs=1)]: Done   2 out of   2 | elapsed:    2.6s remaining:    0.0s\n"
     ]
    },
    {
     "name": "stdout",
     "output_type": "stream",
     "text": [
      "[CV] .......... n_neighbors=1, score=0.5670900055218111, total=   1.1s\n",
      "[CV] n_neighbors=1 ...................................................\n"
     ]
    },
    {
     "name": "stderr",
     "output_type": "stream",
     "text": [
      "[Parallel(n_jobs=1)]: Done   3 out of   3 | elapsed:    4.0s remaining:    0.0s\n"
     ]
    },
    {
     "name": "stdout",
     "output_type": "stream",
     "text": [
      "[CV] ........... n_neighbors=1, score=0.543646408839779, total=   1.0s\n",
      "[CV] n_neighbors=1 ...................................................\n"
     ]
    },
    {
     "name": "stderr",
     "output_type": "stream",
     "text": [
      "[Parallel(n_jobs=1)]: Done   4 out of   4 | elapsed:    5.3s remaining:    0.0s\n"
     ]
    },
    {
     "name": "stdout",
     "output_type": "stream",
     "text": [
      "[CV] ........... n_neighbors=1, score=0.574350469872858, total=   1.1s\n",
      "[CV] n_neighbors=2 ...................................................\n",
      "[CV] .......... n_neighbors=2, score=0.5267512410369554, total=   1.3s\n",
      "[CV] n_neighbors=2 ...................................................\n",
      "[CV] .......... n_neighbors=2, score=0.5298013245033113, total=   1.0s\n",
      "[CV] n_neighbors=2 ...................................................\n",
      "[CV] .......... n_neighbors=2, score=0.5256764218663722, total=   1.1s\n",
      "[CV] n_neighbors=2 ...................................................\n",
      "[CV] .......... n_neighbors=2, score=0.5226519337016574, total=   1.0s\n",
      "[CV] n_neighbors=2 ...................................................\n",
      "[CV] .......... n_neighbors=2, score=0.5334438916528469, total=   1.2s\n",
      "[CV] n_neighbors=3 ...................................................\n",
      "[CV] .......... n_neighbors=3, score=0.5703254274682846, total=   1.1s\n",
      "[CV] n_neighbors=3 ...................................................\n",
      "[CV] .......... n_neighbors=3, score=0.5745033112582781, total=   1.2s\n",
      "[CV] n_neighbors=3 ...................................................\n",
      "[CV] .......... n_neighbors=3, score=0.5742683600220873, total=   1.2s\n",
      "[CV] n_neighbors=3 ...................................................\n",
      "[CV] .......... n_neighbors=3, score=0.5718232044198895, total=   1.1s\n",
      "[CV] n_neighbors=3 ...................................................\n",
      "[CV] .......... n_neighbors=3, score=0.5666113875069099, total=   1.0s\n",
      "[CV] n_neighbors=4 ...................................................\n",
      "[CV] .......... n_neighbors=4, score=0.5741864313292885, total=   1.1s\n",
      "[CV] n_neighbors=4 ...................................................\n",
      "[CV] .......... n_neighbors=4, score=0.5634657836644592, total=   1.2s\n",
      "[CV] n_neighbors=4 ...................................................\n",
      "[CV] .......... n_neighbors=4, score=0.5748205411374931, total=   1.2s\n",
      "[CV] n_neighbors=4 ...................................................\n",
      "[CV] ........... n_neighbors=4, score=0.569060773480663, total=   1.0s\n",
      "[CV] n_neighbors=4 ...................................................\n",
      "[CV] .......... n_neighbors=4, score=0.5671641791044776, total=   1.2s\n",
      "[CV] n_neighbors=5 ...................................................\n",
      "[CV] .......... n_neighbors=5, score=0.5824600110314396, total=   1.2s\n",
      "[CV] n_neighbors=5 ...................................................\n",
      "[CV] .......... n_neighbors=5, score=0.5739514348785872, total=   1.2s\n",
      "[CV] n_neighbors=5 ...................................................\n",
      "[CV] .......... n_neighbors=5, score=0.5875207067918278, total=   1.1s\n",
      "[CV] n_neighbors=5 ...................................................\n",
      "[CV] .......... n_neighbors=5, score=0.5696132596685083, total=   1.1s\n",
      "[CV] n_neighbors=5 ...................................................\n",
      "[CV] .......... n_neighbors=5, score=0.5699281370923162, total=   1.1s\n",
      "[CV] n_neighbors=6 ...................................................\n",
      "[CV] .......... n_neighbors=6, score=0.5945945945945946, total=   1.1s\n",
      "[CV] n_neighbors=6 ...................................................\n",
      "[CV] .......... n_neighbors=6, score=0.5711920529801324, total=   1.3s\n",
      "[CV] n_neighbors=6 ...................................................\n",
      "[CV] .......... n_neighbors=6, score=0.5941468801766979, total=   1.1s\n",
      "[CV] n_neighbors=6 ...................................................\n",
      "[CV] .......... n_neighbors=6, score=0.5845303867403315, total=   1.1s\n",
      "[CV] n_neighbors=6 ...................................................\n",
      "[CV] .......... n_neighbors=6, score=0.5771144278606966, total=   1.1s\n",
      "[CV] n_neighbors=7 ...................................................\n",
      "[CV] .......... n_neighbors=7, score=0.6028681742967458, total=   1.5s\n",
      "[CV] n_neighbors=7 ...................................................\n",
      "[CV] .......... n_neighbors=7, score=0.5783664459161147, total=   1.3s\n",
      "[CV] n_neighbors=7 ...................................................\n",
      "[CV] .......... n_neighbors=7, score=0.6046383213694092, total=   1.4s\n",
      "[CV] n_neighbors=7 ...................................................\n",
      "[CV] .......... n_neighbors=7, score=0.5950276243093923, total=   1.2s\n",
      "[CV] n_neighbors=7 ...................................................\n",
      "[CV] ............ n_neighbors=7, score=0.58595909342178, total=   1.3s\n",
      "[CV] n_neighbors=8 ...................................................\n",
      "[CV] .......... n_neighbors=8, score=0.6056260341974627, total=   1.1s\n",
      "[CV] n_neighbors=8 ...................................................\n",
      "[CV] .......... n_neighbors=8, score=0.5833333333333334, total=   1.1s\n",
      "[CV] n_neighbors=8 ...................................................\n",
      "[CV] .......... n_neighbors=8, score=0.5969077857537273, total=   1.1s\n",
      "[CV] n_neighbors=8 ...................................................\n",
      "[CV] .......... n_neighbors=8, score=0.5895027624309392, total=   1.0s\n",
      "[CV] n_neighbors=8 ...................................................\n",
      "[CV] .......... n_neighbors=8, score=0.5925925925925926, total=   1.2s\n",
      "[CV] n_neighbors=9 ...................................................\n",
      "[CV] .......... n_neighbors=9, score=0.6067291781577496, total=   1.2s\n",
      "[CV] n_neighbors=9 ...................................................\n",
      "[CV] .......... n_neighbors=9, score=0.5932671081677704, total=   1.2s\n",
      "[CV] n_neighbors=9 ...................................................\n",
      "[CV] .......... n_neighbors=9, score=0.5985643290999448, total=   1.2s\n",
      "[CV] n_neighbors=9 ...................................................\n",
      "[CV] .......... n_neighbors=9, score=0.5883977900552486, total=   1.2s\n",
      "[CV] n_neighbors=9 ...................................................\n",
      "[CV] .......... n_neighbors=9, score=0.5837479270315091, total=   1.1s\n",
      "[CV] n_neighbors=10 ..................................................\n",
      "[CV] .......... n_neighbors=10, score=0.604522890237176, total=   1.1s\n",
      "[CV] n_neighbors=10 ..................................................\n",
      "[CV] ......... n_neighbors=10, score=0.5960264900662252, total=   1.4s\n",
      "[CV] n_neighbors=10 ..................................................\n",
      "[CV] ......... n_neighbors=10, score=0.5969077857537273, total=   1.1s\n",
      "[CV] n_neighbors=10 ..................................................\n",
      "[CV] ......... n_neighbors=10, score=0.5828729281767956, total=   1.1s\n",
      "[CV] n_neighbors=10 ..................................................\n",
      "[CV] ......... n_neighbors=10, score=0.5843007186290768, total=   1.2s\n",
      "[CV] n_neighbors=15 ..................................................\n",
      "[CV] .......... n_neighbors=15, score=0.604522890237176, total=   1.6s\n",
      "[CV] n_neighbors=15 ..................................................\n",
      "[CV] ......... n_neighbors=15, score=0.5938189845474614, total=   1.3s\n",
      "[CV] n_neighbors=15 ..................................................\n",
      "[CV] ......... n_neighbors=15, score=0.5935946990612921, total=   1.3s\n",
      "[CV] n_neighbors=15 ..................................................\n",
      "[CV] ......... n_neighbors=15, score=0.5950276243093923, total=   1.5s\n",
      "[CV] n_neighbors=15 ..................................................\n",
      "[CV] ......... n_neighbors=15, score=0.5771144278606966, total=   1.3s\n",
      "[CV] n_neighbors=20 ..................................................\n",
      "[CV] .......... n_neighbors=20, score=0.607280750137893, total=   1.5s\n",
      "[CV] n_neighbors=20 ..................................................\n",
      "[CV] ......... n_neighbors=20, score=0.5949227373068433, total=   1.6s\n",
      "[CV] n_neighbors=20 ..................................................\n",
      "[CV] ......... n_neighbors=20, score=0.5941468801766979, total=   1.4s\n",
      "[CV] n_neighbors=20 ..................................................\n",
      "[CV] ......... n_neighbors=20, score=0.5900552486187846, total=   1.3s\n",
      "[CV] n_neighbors=20 ..................................................\n",
      "[CV] .......... n_neighbors=20, score=0.582089552238806, total=   1.4s\n",
      "[CV] n_neighbors=25 ..................................................\n",
      "[CV] ......... n_neighbors=25, score=0.6034197462768891, total=   1.5s\n",
      "[CV] n_neighbors=25 ..................................................\n",
      "[CV] ......... n_neighbors=25, score=0.6048565121412803, total=   1.5s\n",
      "[CV] n_neighbors=25 ..................................................\n"
     ]
    },
    {
     "name": "stdout",
     "output_type": "stream",
     "text": [
      "[CV] ......... n_neighbors=25, score=0.5946990612921038, total=   1.5s\n",
      "[CV] n_neighbors=25 ..................................................\n",
      "[CV] ......... n_neighbors=25, score=0.5917127071823205, total=   1.4s\n",
      "[CV] n_neighbors=25 ..................................................\n",
      "[CV] ......... n_neighbors=25, score=0.5865118850193477, total=   1.3s\n",
      "[CV] n_neighbors=30 ..................................................\n",
      "[CV] ......... n_neighbors=30, score=0.6067291781577496, total=   1.4s\n",
      "[CV] n_neighbors=30 ..................................................\n",
      "[CV] ......... n_neighbors=30, score=0.5954746136865342, total=   1.4s\n",
      "[CV] n_neighbors=30 ..................................................\n",
      "[CV] .......... n_neighbors=30, score=0.597459966869133, total=   1.3s\n",
      "[CV] n_neighbors=30 ..................................................\n",
      "[CV] ......... n_neighbors=30, score=0.5867403314917127, total=   1.4s\n",
      "[CV] n_neighbors=30 ..................................................\n",
      "[CV] ......... n_neighbors=30, score=0.5771144278606966, total=   1.4s\n",
      "Best performance: 0.5962451684152402\n",
      "With the hyperparameters: {'n_neighbors': 25}\n"
     ]
    },
    {
     "name": "stderr",
     "output_type": "stream",
     "text": [
      "[Parallel(n_jobs=1)]: Done  70 out of  70 | elapsed:  6.6min finished\n"
     ]
    }
   ],
   "source": [
    "from sklearn.neighbors import KNeighborsClassifier\n",
    "\n",
    "# Define some hyperparameters we are going to test\n",
    "param_dist = {\"n_neighbors\":[1,2,3,4,5,6,7,8,9,10,15,20,25,30]}\n",
    "\n",
    "# Make a handle for our model (initialization or our model without fitted parameters)\n",
    "knn = KNeighborsClassifier()\n",
    "\n",
    "knn_random_search_res = cross_validate(knn,\n",
    "                                       full_x,\n",
    "                                       full_y,\n",
    "                                       param_dist,\n",
    "                                       acc_metric,\n",
    "                                       5)\n",
    "\n",
    "print(\"Best performance: %s\" % (knn_random_search_res.best_score_))\n",
    "print(\"With the hyperparameters: %s\" % (knn_random_search_res.best_params_))\n"
   ]
  },
  {
   "cell_type": "code",
   "execution_count": 27,
   "metadata": {},
   "outputs": [
    {
     "name": "stdout",
     "output_type": "stream",
     "text": [
      "Accuracy:   0.587651598676957\n",
      "Precision:  0.6235855613212289\n",
      "Recall:     0.5931552711139292\n",
      "F1 score:   0.5999472526916692\n",
      "               precision    recall  f1-score   support\n",
      "\n",
      "    cytosolic       0.50      0.63      0.56       293\n",
      "     secreted       0.81      0.57      0.67       159\n",
      "mitochondrial       0.55      0.63      0.59       130\n",
      "      nuclear       0.64      0.54      0.59       325\n",
      "\n",
      "  avg / total       0.61      0.59      0.59       907\n",
      "\n"
     ]
    }
   ],
   "source": [
    "knn = KNeighborsClassifier(n_neighbors=knn_random_search_res.best_params_['n_neighbors'])\n",
    "knn.fit(train_x.to_numpy(), train_y)\n",
    "knn_pred = knn.predict(test_x.to_numpy())\n",
    "acc = accuracy_score(test_y, knn_pred)\n",
    "precision = precision_score(test_y, knn_pred, average='macro')\n",
    "recall = recall_score(test_y, knn_pred, average='macro')\n",
    "f1 = f1_score(test_y, knn_pred, average='macro')\n",
    "print(\"Accuracy:  \", acc)\n",
    "print(\"Precision: \", precision)\n",
    "print(\"Recall:    \", recall)\n",
    "print(\"F1 score:  \", f1)\n",
    "print(classification_report(test_y, knn_pred, target_names = classes))"
   ]
  },
  {
   "cell_type": "markdown",
   "metadata": {},
   "source": [
    "### Test using GNB"
   ]
  },
  {
   "cell_type": "raw",
   "metadata": {},
   "source": [
    "from sklearn.feature_extraction.text import CountVectorizer\n",
    "# Create a Count Vectorizer to gather the unique elements in sequence\n",
    "vect = CountVectorizer(analyzer = 'char_wb', \n",
    "                       ngram_range = (4,4),\n",
    "                       max_features=None)\n",
    "vect.fit([str(example.seq) for example in train_data])\n",
    "a = vect.transform([str(example.seq) for example in train_data])\n",
    "b = vect.transform([str(example.seq) for example in test_data])"
   ]
  },
  {
   "cell_type": "raw",
   "metadata": {},
   "source": [
    "from sklearn.naive_bayes import MultinomialNB\n",
    "model = MultinomialNB()\n",
    "model.fit(a, train_labels)\n",
    "NB_pred = model.predict(b)\n",
    "NB_pred"
   ]
  },
  {
   "cell_type": "raw",
   "metadata": {},
   "source": [
    "acc = accuracy_score(test_labels, NB_pred)\n",
    "precision = precision_score(test_labels, NB_pred, average='macro')\n",
    "recall = recall_score(test_labels, NB_pred, average='macro')\n",
    "f1 = f1_score(test_labels, NB_pred, average='macro')\n",
    "print(\"Accuracy:       \", acc)\n",
    "print(\"Precision:      \", precision)\n",
    "print(\"Recall:         \", recall)\n",
    "print(\"F1 score:       \", f1)\n",
    "print(classification_report(NB_pred, pred, target_names = classes))"
   ]
  },
  {
   "cell_type": "code",
   "execution_count": 20,
   "metadata": {},
   "outputs": [],
   "source": [
    "import torch\n",
    "device = torch.device(\"cuda:0\" if torch.cuda.is_available() else \"cpu\")"
   ]
  },
  {
   "cell_type": "code",
   "execution_count": 22,
   "metadata": {},
   "outputs": [
    {
     "data": {
      "text/plain": [
       "torch.device"
      ]
     },
     "execution_count": 22,
     "metadata": {},
     "output_type": "execute_result"
    }
   ],
   "source": [
    "type(device)"
   ]
  },
  {
   "cell_type": "code",
   "execution_count": null,
   "metadata": {},
   "outputs": [],
   "source": []
  }
 ],
 "metadata": {
  "kernelspec": {
   "display_name": "Python 3",
   "language": "python",
   "name": "python3"
  },
  "language_info": {
   "codemirror_mode": {
    "name": "ipython",
    "version": 3
   },
   "file_extension": ".py",
   "mimetype": "text/x-python",
   "name": "python",
   "nbconvert_exporter": "python",
   "pygments_lexer": "ipython3",
   "version": "3.6.8"
  }
 },
 "nbformat": 4,
 "nbformat_minor": 2
}
