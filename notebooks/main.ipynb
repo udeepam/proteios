{
 "cells": [
  {
   "cell_type": "markdown",
   "metadata": {},
   "source": [
    "# Testing"
   ]
  },
  {
   "cell_type": "code",
   "execution_count": null,
   "metadata": {},
   "outputs": [],
   "source": [
    "%cd .."
   ]
  },
  {
   "cell_type": "code",
   "execution_count": 2,
   "metadata": {},
   "outputs": [],
   "source": [
    "import numpy as np\n",
    "import pandas as pd\n",
    "import matplotlib.pyplot as plt\n",
    "import seaborn as sns\n",
    "import collections\n",
    "import pickle\n",
    "import copy\n",
    "import collections\n",
    "\n",
    "from Bio import SeqIO\n",
    "\n",
    "from proteios.preprocess import preprocess, split_data\n",
    "from proteios.featurise import Featuriser\n",
    "from proteios.cross_val import cross_validate\n",
    "from proteios.results import make_row, get_conf_matrix\n",
    "\n",
    "# Fix random seed\n",
    "np.random.seed(0)"
   ]
  },
  {
   "cell_type": "markdown",
   "metadata": {},
   "source": [
    "### Get Data"
   ]
  },
  {
   "cell_type": "code",
   "execution_count": 3,
   "metadata": {},
   "outputs": [],
   "source": [
    "input_path = \"input_data/\""
   ]
  },
  {
   "cell_type": "code",
   "execution_count": 4,
   "metadata": {},
   "outputs": [
    {
     "name": "stdout",
     "output_type": "stream",
     "text": [
      "{'Cytosolic': 0, 'Secreted': 1, 'Mitochondrial': 2, 'Nuclear': 3}\n",
      "{'Cytosolic': 3004, 'Secreted': 1605, 'Mitochondrial': 1299, 'Nuclear': 3314, 'total': 9222}\n",
      "Number of test data points:   20\n"
     ]
    }
   ],
   "source": [
    "classes = [\"Cytosolic\", \"Secreted\", \"Mitochondrial\", \"Nuclear\"]\n",
    "\n",
    "# Get dictionaries for labels\n",
    "label2index = {key:i for i, key in enumerate(classes)}\n",
    "index2label = dict(zip(label2index.values(), label2index.keys())) \n",
    "\n",
    "# Get data\n",
    "datasets = dict()\n",
    "for label in classes:\n",
    "    datasets[label] = list(SeqIO.parse(input_path+label+\".fasta\", \"fasta\"))\n",
    "# Get test data\n",
    "blind_test_x = list(SeqIO.parse(input_path+\"blind_test.fasta\", \"fasta\"))\n",
    "\n",
    "# Get number of examples in each category\n",
    "counts = {key:len(val) for i, (key,val) in enumerate(datasets.items())}\n",
    "counts[\"total\"] = sum([len(sublist) for keys, sublist in datasets.items()])\n",
    "print(label2index)\n",
    "print(counts)\n",
    "print(\"Number of test data points:  \", len(blind_test_x))"
   ]
  },
  {
   "cell_type": "code",
   "execution_count": 5,
   "metadata": {},
   "outputs": [
    {
     "name": "stdout",
     "output_type": "stream",
     "text": [
      "Processing Cytosolic\n",
      "Data removed:  80\n",
      "Processing Secreted\n",
      "Data removed:  19\n",
      "Processing Mitochondrial\n",
      "Data removed:  2\n",
      "Processing Nuclear\n",
      "Data removed:  66\n",
      "Total Before:  9222\n",
      "Total After:   9055\n",
      "\n",
      "Processing tmp\n",
      "Data removed:  0\n",
      "Total Before:  20\n",
      "Total After:   20\n",
      "\n",
      "Distribution Full:   {3: 3248, 0: 2924, 2: 1297, 1: 1586}\n",
      "\n",
      "Training data size:  8148\n",
      "Test data size:      907\n",
      "Distribution train:  {1: 1427, 2: 1167, 3: 2923, 0: 2631}\n",
      "Distribution test:   {3: 325, 0: 293, 1: 159, 2: 130}\n"
     ]
    }
   ],
   "source": [
    "# Preprocess the data\n",
    "full_x, full_y = preprocess(datasets, \n",
    "                            label2index=label2index,\n",
    "                            trim_outliers=True,\n",
    "                            max_length=2000)\n",
    "print()\n",
    "blind_test_xs = preprocess(blind_test_x, \n",
    "                           trim_outliers=True,\n",
    "                           max_length=2000)\n",
    "# Split the data\n",
    "train_x, train_y, test_x, test_y = split_data(full_x, \n",
    "                                              full_y,\n",
    "                                              train_size=0.9)\n",
    "print()\n",
    "print(\"Distribution Full:  \", dict(collections.Counter(full_y)))\n",
    "print()\n",
    "print(\"Training data size: \", len(train_y))\n",
    "print(\"Test data size:     \", len(test_y))\n",
    "print(\"Distribution train: \", dict(collections.Counter(train_y)))\n",
    "print(\"Distribution test:  \", dict(collections.Counter(test_y)))"
   ]
  },
  {
   "cell_type": "markdown",
   "metadata": {},
   "source": [
    "### Get Features"
   ]
  },
  {
   "cell_type": "code",
   "execution_count": 6,
   "metadata": {},
   "outputs": [],
   "source": [
    "# Get dictionaries\n",
    "dicts = dict()\n",
    "dicts['kd'] = pickle.load(open(\"input_data/scales/kd.pickle\",\"rb\"))\n",
    "dicts['flex'] = pickle.load(open(\"input_data/scales/flex.pickle\",\"rb\"))\n",
    "dicts['hw'] = pickle.load(open(\"input_data/scales/hw.pickle\",\"rb\"))\n",
    "dicts['em'] = pickle.load(open(\"input_data/scales/em.pickle\",\"rb\"))\n",
    "dicts['ja'] = pickle.load(open(\"input_data/scales/ja.pickle\",\"rb\"))\n",
    "dicts['diwv'] = pickle.load(open(\"input_data/scales/diwv.pickle\",\"rb\"))  "
   ]
  },
  {
   "cell_type": "code",
   "execution_count": 7,
   "metadata": {},
   "outputs": [],
   "source": [
    "featuriser = Featuriser(full_x, dicts)\n",
    "full_x  = featuriser.transform(full_x)\n",
    "blind_test_x  = featuriser.transform(blind_test_xs)\n",
    "train_x = featuriser.transform(train_x)\n",
    "test_x  = featuriser.transform(test_x)"
   ]
  },
  {
   "cell_type": "code",
   "execution_count": 8,
   "metadata": {},
   "outputs": [
    {
     "data": {
      "text/html": [
       "<div>\n",
       "<style scoped>\n",
       "    .dataframe tbody tr th:only-of-type {\n",
       "        vertical-align: middle;\n",
       "    }\n",
       "\n",
       "    .dataframe tbody tr th {\n",
       "        vertical-align: top;\n",
       "    }\n",
       "\n",
       "    .dataframe thead th {\n",
       "        text-align: right;\n",
       "    }\n",
       "</style>\n",
       "<table border=\"1\" class=\"dataframe\">\n",
       "  <thead>\n",
       "    <tr style=\"text-align: right;\">\n",
       "      <th></th>\n",
       "      <th>length</th>\n",
       "      <th>molecular_weight</th>\n",
       "      <th>isoelectric_point</th>\n",
       "      <th>aromaticity</th>\n",
       "      <th>instability_index</th>\n",
       "      <th>gravy</th>\n",
       "      <th>reduced</th>\n",
       "      <th>oxidised</th>\n",
       "      <th>helix</th>\n",
       "      <th>turn</th>\n",
       "      <th>...</th>\n",
       "      <th>last_50_M</th>\n",
       "      <th>last_50_N</th>\n",
       "      <th>last_50_P</th>\n",
       "      <th>last_50_Q</th>\n",
       "      <th>last_50_R</th>\n",
       "      <th>last_50_S</th>\n",
       "      <th>last_50_T</th>\n",
       "      <th>last_50_V</th>\n",
       "      <th>last_50_W</th>\n",
       "      <th>last_50_Y</th>\n",
       "    </tr>\n",
       "  </thead>\n",
       "  <tbody>\n",
       "    <tr>\n",
       "      <th>0</th>\n",
       "      <td>-0.806657</td>\n",
       "      <td>-0.800262</td>\n",
       "      <td>-0.755535</td>\n",
       "      <td>0.242616</td>\n",
       "      <td>-0.007247</td>\n",
       "      <td>0.305557</td>\n",
       "      <td>-0.509198</td>\n",
       "      <td>-0.508647</td>\n",
       "      <td>0.225385</td>\n",
       "      <td>0.012791</td>\n",
       "      <td>...</td>\n",
       "      <td>0.854124</td>\n",
       "      <td>-0.162842</td>\n",
       "      <td>0.138739</td>\n",
       "      <td>-0.110699</td>\n",
       "      <td>-0.806124</td>\n",
       "      <td>1.403898</td>\n",
       "      <td>-0.862108</td>\n",
       "      <td>-0.952807</td>\n",
       "      <td>0.422678</td>\n",
       "      <td>1.064776</td>\n",
       "    </tr>\n",
       "    <tr>\n",
       "      <th>1</th>\n",
       "      <td>-1.098142</td>\n",
       "      <td>-1.107773</td>\n",
       "      <td>1.170813</td>\n",
       "      <td>-1.528243</td>\n",
       "      <td>1.152644</td>\n",
       "      <td>0.437546</td>\n",
       "      <td>-0.901343</td>\n",
       "      <td>-0.906719</td>\n",
       "      <td>-0.683724</td>\n",
       "      <td>-0.370318</td>\n",
       "      <td>...</td>\n",
       "      <td>-0.016389</td>\n",
       "      <td>-0.162842</td>\n",
       "      <td>-0.289219</td>\n",
       "      <td>1.401648</td>\n",
       "      <td>0.907851</td>\n",
       "      <td>-0.787258</td>\n",
       "      <td>0.793750</td>\n",
       "      <td>-0.426707</td>\n",
       "      <td>1.502267</td>\n",
       "      <td>-0.978975</td>\n",
       "    </tr>\n",
       "    <tr>\n",
       "      <th>2</th>\n",
       "      <td>0.204178</td>\n",
       "      <td>0.224480</td>\n",
       "      <td>-0.802786</td>\n",
       "      <td>-0.099287</td>\n",
       "      <td>0.501211</td>\n",
       "      <td>0.927303</td>\n",
       "      <td>-0.435840</td>\n",
       "      <td>-0.429789</td>\n",
       "      <td>1.107682</td>\n",
       "      <td>-1.160093</td>\n",
       "      <td>...</td>\n",
       "      <td>-0.886903</td>\n",
       "      <td>-1.227841</td>\n",
       "      <td>2.278529</td>\n",
       "      <td>0.897533</td>\n",
       "      <td>-0.806124</td>\n",
       "      <td>-0.056872</td>\n",
       "      <td>-0.862108</td>\n",
       "      <td>-0.426707</td>\n",
       "      <td>-0.656912</td>\n",
       "      <td>-0.297724</td>\n",
       "    </tr>\n",
       "    <tr>\n",
       "      <th>3</th>\n",
       "      <td>0.046402</td>\n",
       "      <td>0.014496</td>\n",
       "      <td>1.297457</td>\n",
       "      <td>-1.188117</td>\n",
       "      <td>0.861330</td>\n",
       "      <td>0.038925</td>\n",
       "      <td>-0.447164</td>\n",
       "      <td>-0.428812</td>\n",
       "      <td>-1.140829</td>\n",
       "      <td>0.386568</td>\n",
       "      <td>...</td>\n",
       "      <td>2.595151</td>\n",
       "      <td>0.369657</td>\n",
       "      <td>3.990361</td>\n",
       "      <td>-0.614815</td>\n",
       "      <td>-0.806124</td>\n",
       "      <td>-0.422065</td>\n",
       "      <td>1.345703</td>\n",
       "      <td>0.099393</td>\n",
       "      <td>0.422678</td>\n",
       "      <td>-0.978975</td>\n",
       "    </tr>\n",
       "    <tr>\n",
       "      <th>4</th>\n",
       "      <td>0.899461</td>\n",
       "      <td>0.985599</td>\n",
       "      <td>-0.890165</td>\n",
       "      <td>1.067473</td>\n",
       "      <td>-0.433540</td>\n",
       "      <td>0.389393</td>\n",
       "      <td>0.506489</td>\n",
       "      <td>0.504784</td>\n",
       "      <td>1.612466</td>\n",
       "      <td>-0.363544</td>\n",
       "      <td>...</td>\n",
       "      <td>0.854124</td>\n",
       "      <td>-0.695342</td>\n",
       "      <td>-1.145135</td>\n",
       "      <td>-0.110699</td>\n",
       "      <td>0.907851</td>\n",
       "      <td>-0.787258</td>\n",
       "      <td>-0.862108</td>\n",
       "      <td>1.151592</td>\n",
       "      <td>0.422678</td>\n",
       "      <td>0.383526</td>\n",
       "    </tr>\n",
       "  </tbody>\n",
       "</table>\n",
       "<p>5 rows × 89 columns</p>\n",
       "</div>"
      ],
      "text/plain": [
       "     length  molecular_weight  isoelectric_point  aromaticity  \\\n",
       "0 -0.806657         -0.800262          -0.755535     0.242616   \n",
       "1 -1.098142         -1.107773           1.170813    -1.528243   \n",
       "2  0.204178          0.224480          -0.802786    -0.099287   \n",
       "3  0.046402          0.014496           1.297457    -1.188117   \n",
       "4  0.899461          0.985599          -0.890165     1.067473   \n",
       "\n",
       "   instability_index     gravy   reduced  oxidised     helix      turn  ...  \\\n",
       "0          -0.007247  0.305557 -0.509198 -0.508647  0.225385  0.012791  ...   \n",
       "1           1.152644  0.437546 -0.901343 -0.906719 -0.683724 -0.370318  ...   \n",
       "2           0.501211  0.927303 -0.435840 -0.429789  1.107682 -1.160093  ...   \n",
       "3           0.861330  0.038925 -0.447164 -0.428812 -1.140829  0.386568  ...   \n",
       "4          -0.433540  0.389393  0.506489  0.504784  1.612466 -0.363544  ...   \n",
       "\n",
       "   last_50_M  last_50_N  last_50_P  last_50_Q  last_50_R  last_50_S  \\\n",
       "0   0.854124  -0.162842   0.138739  -0.110699  -0.806124   1.403898   \n",
       "1  -0.016389  -0.162842  -0.289219   1.401648   0.907851  -0.787258   \n",
       "2  -0.886903  -1.227841   2.278529   0.897533  -0.806124  -0.056872   \n",
       "3   2.595151   0.369657   3.990361  -0.614815  -0.806124  -0.422065   \n",
       "4   0.854124  -0.695342  -1.145135  -0.110699   0.907851  -0.787258   \n",
       "\n",
       "   last_50_T  last_50_V  last_50_W  last_50_Y  \n",
       "0  -0.862108  -0.952807   0.422678   1.064776  \n",
       "1   0.793750  -0.426707   1.502267  -0.978975  \n",
       "2  -0.862108  -0.426707  -0.656912  -0.297724  \n",
       "3   1.345703   0.099393   0.422678  -0.978975  \n",
       "4  -0.862108   1.151592   0.422678   0.383526  \n",
       "\n",
       "[5 rows x 89 columns]"
      ]
     },
     "execution_count": 8,
     "metadata": {},
     "output_type": "execute_result"
    }
   ],
   "source": [
    "train_x.head()"
   ]
  },
  {
   "cell_type": "markdown",
   "metadata": {},
   "source": [
    "# Models"
   ]
  },
  {
   "cell_type": "code",
   "execution_count": 9,
   "metadata": {},
   "outputs": [],
   "source": [
    "table = collections.defaultdict(list)\n",
    "columns = ['params', \n",
    "           'mean_test_Accuracy', 'std_test_Accuracy', \n",
    "           'mean_test_Precision', 'std_test_Precision',\n",
    "           'mean_test_Recall', 'std_test_Recall',\n",
    "           'mean_test_F1', 'std_test_F1',\n",
    "           'mean_test_MCC', 'std_test_MCC']"
   ]
  },
  {
   "cell_type": "markdown",
   "metadata": {},
   "source": [
    "### Test using Random Forest"
   ]
  },
  {
   "cell_type": "code",
   "execution_count": 10,
   "metadata": {
    "scrolled": true
   },
   "outputs": [
    {
     "name": "stdout",
     "output_type": "stream",
     "text": [
      "Fitting 5 folds for each of 1 candidates, totalling 5 fits\n",
      "[CV] n_estimators=1000 ...............................................\n"
     ]
    },
    {
     "name": "stderr",
     "output_type": "stream",
     "text": [
      "[Parallel(n_jobs=1)]: Using backend SequentialBackend with 1 concurrent workers.\n"
     ]
    },
    {
     "name": "stdout",
     "output_type": "stream",
     "text": [
      "[CV]  n_estimators=1000, Accuracy=0.674, F1=0.688, MCC=0.541, Precision=0.702, Recall=0.679, total=  40.7s\n",
      "[CV] n_estimators=1000 ...............................................\n"
     ]
    },
    {
     "name": "stderr",
     "output_type": "stream",
     "text": [
      "[Parallel(n_jobs=1)]: Done   1 out of   1 | elapsed:   40.7s remaining:    0.0s\n"
     ]
    },
    {
     "name": "stdout",
     "output_type": "stream",
     "text": [
      "[CV]  n_estimators=1000, Accuracy=0.680, F1=0.691, MCC=0.551, Precision=0.701, Recall=0.686, total=  41.2s\n",
      "[CV] n_estimators=1000 ...............................................\n"
     ]
    },
    {
     "name": "stderr",
     "output_type": "stream",
     "text": [
      "[Parallel(n_jobs=1)]: Done   2 out of   2 | elapsed:  1.4min remaining:    0.0s\n"
     ]
    },
    {
     "name": "stdout",
     "output_type": "stream",
     "text": [
      "[CV]  n_estimators=1000, Accuracy=0.654, F1=0.674, MCC=0.516, Precision=0.676, Recall=0.672, total=  40.3s\n",
      "[CV] n_estimators=1000 ...............................................\n",
      "[CV]  n_estimators=1000, Accuracy=0.662, F1=0.687, MCC=0.525, Precision=0.699, Recall=0.678, total=  41.2s\n",
      "[CV] n_estimators=1000 ...............................................\n",
      "[CV]  n_estimators=1000, Accuracy=0.667, F1=0.687, MCC=0.533, Precision=0.694, Recall=0.682, total=  40.7s\n"
     ]
    },
    {
     "name": "stderr",
     "output_type": "stream",
     "text": [
      "[Parallel(n_jobs=1)]: Done   5 out of   5 | elapsed:  3.4min finished\n"
     ]
    },
    {
     "name": "stdout",
     "output_type": "stream",
     "text": [
      "Best performance: 0.6672556598564329\n",
      "With the hyperparameters: {'n_estimators': 1000}\n"
     ]
    },
    {
     "data": {
      "text/html": [
       "<div>\n",
       "<style scoped>\n",
       "    .dataframe tbody tr th:only-of-type {\n",
       "        vertical-align: middle;\n",
       "    }\n",
       "\n",
       "    .dataframe tbody tr th {\n",
       "        vertical-align: top;\n",
       "    }\n",
       "\n",
       "    .dataframe thead th {\n",
       "        text-align: right;\n",
       "    }\n",
       "</style>\n",
       "<table border=\"1\" class=\"dataframe\">\n",
       "  <thead>\n",
       "    <tr style=\"text-align: right;\">\n",
       "      <th></th>\n",
       "      <th>0</th>\n",
       "    </tr>\n",
       "  </thead>\n",
       "  <tbody>\n",
       "    <tr>\n",
       "      <th>params</th>\n",
       "      <td>{'n_estimators': 1000}</td>\n",
       "    </tr>\n",
       "    <tr>\n",
       "      <th>mean_test_Accuracy</th>\n",
       "      <td>0.6673</td>\n",
       "    </tr>\n",
       "    <tr>\n",
       "      <th>std_test_Accuracy</th>\n",
       "      <td>0.009</td>\n",
       "    </tr>\n",
       "    <tr>\n",
       "      <th>mean_test_Precision</th>\n",
       "      <td>0.6943</td>\n",
       "    </tr>\n",
       "    <tr>\n",
       "      <th>std_test_Precision</th>\n",
       "      <td>0.0096</td>\n",
       "    </tr>\n",
       "    <tr>\n",
       "      <th>mean_test_Recall</th>\n",
       "      <td>0.6794</td>\n",
       "    </tr>\n",
       "    <tr>\n",
       "      <th>std_test_Recall</th>\n",
       "      <td>0.0045</td>\n",
       "    </tr>\n",
       "    <tr>\n",
       "      <th>mean_test_F1</th>\n",
       "      <td>0.6854</td>\n",
       "    </tr>\n",
       "    <tr>\n",
       "      <th>std_test_F1</th>\n",
       "      <td>0.006</td>\n",
       "    </tr>\n",
       "    <tr>\n",
       "      <th>mean_test_MCC</th>\n",
       "      <td>0.5332</td>\n",
       "    </tr>\n",
       "    <tr>\n",
       "      <th>std_test_MCC</th>\n",
       "      <td>0.0123</td>\n",
       "    </tr>\n",
       "  </tbody>\n",
       "</table>\n",
       "</div>"
      ],
      "text/plain": [
       "                                          0\n",
       "params               {'n_estimators': 1000}\n",
       "mean_test_Accuracy                   0.6673\n",
       "std_test_Accuracy                     0.009\n",
       "mean_test_Precision                  0.6943\n",
       "std_test_Precision                   0.0096\n",
       "mean_test_Recall                     0.6794\n",
       "std_test_Recall                      0.0045\n",
       "mean_test_F1                         0.6854\n",
       "std_test_F1                           0.006\n",
       "mean_test_MCC                        0.5332\n",
       "std_test_MCC                         0.0123"
      ]
     },
     "execution_count": 10,
     "metadata": {},
     "output_type": "execute_result"
    }
   ],
   "source": [
    "from sklearn.ensemble import RandomForestClassifier\n",
    "\n",
    "# Define some hyperparameters we are going to test\n",
    "param_dist = {\"n_estimators\": [1000]}\n",
    "\n",
    "# Make a handle for our model (initialization or our model without fitted parameters)\n",
    "rf = RandomForestClassifier(random_state=79)\n",
    "\n",
    "rf_random_search_res = cross_validate(rf,\n",
    "                                      full_x,\n",
    "                                      full_y,\n",
    "                                      param_dist,\n",
    "                                      5)\n",
    "\n",
    "print(\"Best performance: %s\" % (rf_random_search_res.best_score_))\n",
    "print(\"With the hyperparameters: %s\" % (rf_random_search_res.best_params_))\n",
    "\n",
    "# Print cross-validation results\n",
    "rf_df = pd.DataFrame.from_dict(rf_random_search_res.cv_results_)[columns].round(4)\n",
    "rf_result = rf_df[rf_df['params']==rf_random_search_res.best_params_].reset_index(drop=True).to_dict('records')[0]\n",
    "table = make_row(table, rf_result, \"RF\")\n",
    "rf_df.T"
   ]
  },
  {
   "cell_type": "markdown",
   "metadata": {},
   "source": [
    "### Test using MLP"
   ]
  },
  {
   "cell_type": "code",
   "execution_count": 11,
   "metadata": {
    "scrolled": true
   },
   "outputs": [
    {
     "name": "stdout",
     "output_type": "stream",
     "text": [
      "Fitting 5 folds for each of 4 candidates, totalling 20 fits\n",
      "[CV] hidden_layer_sizes=100 ..........................................\n"
     ]
    },
    {
     "name": "stderr",
     "output_type": "stream",
     "text": [
      "[Parallel(n_jobs=1)]: Using backend SequentialBackend with 1 concurrent workers.\n",
      "/anaconda3/lib/python3.6/site-packages/sklearn/neural_network/_multilayer_perceptron.py:571: ConvergenceWarning: Stochastic Optimizer: Maximum iterations (200) reached and the optimization hasn't converged yet.\n",
      "  % self.max_iter, ConvergenceWarning)\n",
      "[Parallel(n_jobs=1)]: Done   1 out of   1 | elapsed:    7.1s remaining:    0.0s\n"
     ]
    },
    {
     "name": "stdout",
     "output_type": "stream",
     "text": [
      "[CV]  hidden_layer_sizes=100, Accuracy=0.624, F1=0.642, MCC=0.475, Precision=0.641, Recall=0.644, total=   7.1s\n",
      "[CV] hidden_layer_sizes=100 ..........................................\n"
     ]
    },
    {
     "name": "stderr",
     "output_type": "stream",
     "text": [
      "/anaconda3/lib/python3.6/site-packages/sklearn/neural_network/_multilayer_perceptron.py:571: ConvergenceWarning: Stochastic Optimizer: Maximum iterations (200) reached and the optimization hasn't converged yet.\n",
      "  % self.max_iter, ConvergenceWarning)\n",
      "[Parallel(n_jobs=1)]: Done   2 out of   2 | elapsed:   14.2s remaining:    0.0s\n"
     ]
    },
    {
     "name": "stdout",
     "output_type": "stream",
     "text": [
      "[CV]  hidden_layer_sizes=100, Accuracy=0.617, F1=0.638, MCC=0.464, Precision=0.641, Recall=0.635, total=   7.1s\n",
      "[CV] hidden_layer_sizes=100 ..........................................\n"
     ]
    },
    {
     "name": "stderr",
     "output_type": "stream",
     "text": [
      "/anaconda3/lib/python3.6/site-packages/sklearn/neural_network/_multilayer_perceptron.py:571: ConvergenceWarning: Stochastic Optimizer: Maximum iterations (200) reached and the optimization hasn't converged yet.\n",
      "  % self.max_iter, ConvergenceWarning)\n"
     ]
    },
    {
     "name": "stdout",
     "output_type": "stream",
     "text": [
      "[CV]  hidden_layer_sizes=100, Accuracy=0.602, F1=0.626, MCC=0.446, Precision=0.626, Recall=0.627, total=   8.4s\n",
      "[CV] hidden_layer_sizes=100 ..........................................\n"
     ]
    },
    {
     "name": "stderr",
     "output_type": "stream",
     "text": [
      "/anaconda3/lib/python3.6/site-packages/sklearn/neural_network/_multilayer_perceptron.py:571: ConvergenceWarning: Stochastic Optimizer: Maximum iterations (200) reached and the optimization hasn't converged yet.\n",
      "  % self.max_iter, ConvergenceWarning)\n"
     ]
    },
    {
     "name": "stdout",
     "output_type": "stream",
     "text": [
      "[CV]  hidden_layer_sizes=100, Accuracy=0.610, F1=0.627, MCC=0.454, Precision=0.629, Recall=0.624, total=  10.2s\n",
      "[CV] hidden_layer_sizes=100 ..........................................\n"
     ]
    },
    {
     "name": "stderr",
     "output_type": "stream",
     "text": [
      "/anaconda3/lib/python3.6/site-packages/sklearn/neural_network/_multilayer_perceptron.py:571: ConvergenceWarning: Stochastic Optimizer: Maximum iterations (200) reached and the optimization hasn't converged yet.\n",
      "  % self.max_iter, ConvergenceWarning)\n"
     ]
    },
    {
     "name": "stdout",
     "output_type": "stream",
     "text": [
      "[CV]  hidden_layer_sizes=100, Accuracy=0.586, F1=0.604, MCC=0.421, Precision=0.608, Recall=0.601, total=   7.8s\n",
      "[CV] hidden_layer_sizes=128 ..........................................\n"
     ]
    },
    {
     "name": "stderr",
     "output_type": "stream",
     "text": [
      "/anaconda3/lib/python3.6/site-packages/sklearn/neural_network/_multilayer_perceptron.py:571: ConvergenceWarning: Stochastic Optimizer: Maximum iterations (200) reached and the optimization hasn't converged yet.\n",
      "  % self.max_iter, ConvergenceWarning)\n"
     ]
    },
    {
     "name": "stdout",
     "output_type": "stream",
     "text": [
      "[CV]  hidden_layer_sizes=128, Accuracy=0.600, F1=0.625, MCC=0.442, Precision=0.626, Recall=0.624, total=   9.4s\n",
      "[CV] hidden_layer_sizes=128 ..........................................\n"
     ]
    },
    {
     "name": "stderr",
     "output_type": "stream",
     "text": [
      "/anaconda3/lib/python3.6/site-packages/sklearn/neural_network/_multilayer_perceptron.py:571: ConvergenceWarning: Stochastic Optimizer: Maximum iterations (200) reached and the optimization hasn't converged yet.\n",
      "  % self.max_iter, ConvergenceWarning)\n"
     ]
    },
    {
     "name": "stdout",
     "output_type": "stream",
     "text": [
      "[CV]  hidden_layer_sizes=128, Accuracy=0.605, F1=0.625, MCC=0.447, Precision=0.629, Recall=0.621, total=   8.9s\n",
      "[CV] hidden_layer_sizes=128 ..........................................\n"
     ]
    },
    {
     "name": "stderr",
     "output_type": "stream",
     "text": [
      "/anaconda3/lib/python3.6/site-packages/sklearn/neural_network/_multilayer_perceptron.py:571: ConvergenceWarning: Stochastic Optimizer: Maximum iterations (200) reached and the optimization hasn't converged yet.\n",
      "  % self.max_iter, ConvergenceWarning)\n"
     ]
    },
    {
     "name": "stdout",
     "output_type": "stream",
     "text": [
      "[CV]  hidden_layer_sizes=128, Accuracy=0.606, F1=0.630, MCC=0.448, Precision=0.634, Recall=0.627, total=   8.2s\n",
      "[CV] hidden_layer_sizes=128 ..........................................\n"
     ]
    },
    {
     "name": "stderr",
     "output_type": "stream",
     "text": [
      "/anaconda3/lib/python3.6/site-packages/sklearn/neural_network/_multilayer_perceptron.py:571: ConvergenceWarning: Stochastic Optimizer: Maximum iterations (200) reached and the optimization hasn't converged yet.\n",
      "  % self.max_iter, ConvergenceWarning)\n"
     ]
    },
    {
     "name": "stdout",
     "output_type": "stream",
     "text": [
      "[CV]  hidden_layer_sizes=128, Accuracy=0.612, F1=0.628, MCC=0.459, Precision=0.626, Recall=0.631, total=   8.5s\n",
      "[CV] hidden_layer_sizes=128 ..........................................\n"
     ]
    },
    {
     "name": "stderr",
     "output_type": "stream",
     "text": [
      "/anaconda3/lib/python3.6/site-packages/sklearn/neural_network/_multilayer_perceptron.py:571: ConvergenceWarning: Stochastic Optimizer: Maximum iterations (200) reached and the optimization hasn't converged yet.\n",
      "  % self.max_iter, ConvergenceWarning)\n"
     ]
    },
    {
     "name": "stdout",
     "output_type": "stream",
     "text": [
      "[CV]  hidden_layer_sizes=128, Accuracy=0.606, F1=0.624, MCC=0.448, Precision=0.629, Recall=0.620, total=   8.1s\n",
      "[CV] hidden_layer_sizes=256 ..........................................\n"
     ]
    },
    {
     "name": "stderr",
     "output_type": "stream",
     "text": [
      "/anaconda3/lib/python3.6/site-packages/sklearn/neural_network/_multilayer_perceptron.py:571: ConvergenceWarning: Stochastic Optimizer: Maximum iterations (200) reached and the optimization hasn't converged yet.\n",
      "  % self.max_iter, ConvergenceWarning)\n"
     ]
    },
    {
     "name": "stdout",
     "output_type": "stream",
     "text": [
      "[CV]  hidden_layer_sizes=256, Accuracy=0.627, F1=0.650, MCC=0.479, Precision=0.651, Recall=0.650, total=  12.8s\n",
      "[CV] hidden_layer_sizes=256 ..........................................\n"
     ]
    },
    {
     "name": "stderr",
     "output_type": "stream",
     "text": [
      "/anaconda3/lib/python3.6/site-packages/sklearn/neural_network/_multilayer_perceptron.py:571: ConvergenceWarning: Stochastic Optimizer: Maximum iterations (200) reached and the optimization hasn't converged yet.\n",
      "  % self.max_iter, ConvergenceWarning)\n"
     ]
    },
    {
     "name": "stdout",
     "output_type": "stream",
     "text": [
      "[CV]  hidden_layer_sizes=256, Accuracy=0.617, F1=0.639, MCC=0.465, Precision=0.641, Recall=0.637, total=  13.0s\n",
      "[CV] hidden_layer_sizes=256 ..........................................\n"
     ]
    },
    {
     "name": "stderr",
     "output_type": "stream",
     "text": [
      "/anaconda3/lib/python3.6/site-packages/sklearn/neural_network/_multilayer_perceptron.py:571: ConvergenceWarning: Stochastic Optimizer: Maximum iterations (200) reached and the optimization hasn't converged yet.\n",
      "  % self.max_iter, ConvergenceWarning)\n"
     ]
    },
    {
     "name": "stdout",
     "output_type": "stream",
     "text": [
      "[CV]  hidden_layer_sizes=256, Accuracy=0.602, F1=0.627, MCC=0.445, Precision=0.627, Recall=0.627, total=  12.8s\n",
      "[CV] hidden_layer_sizes=256 ..........................................\n"
     ]
    },
    {
     "name": "stderr",
     "output_type": "stream",
     "text": [
      "/anaconda3/lib/python3.6/site-packages/sklearn/neural_network/_multilayer_perceptron.py:571: ConvergenceWarning: Stochastic Optimizer: Maximum iterations (200) reached and the optimization hasn't converged yet.\n",
      "  % self.max_iter, ConvergenceWarning)\n"
     ]
    },
    {
     "name": "stdout",
     "output_type": "stream",
     "text": [
      "[CV]  hidden_layer_sizes=256, Accuracy=0.627, F1=0.650, MCC=0.478, Precision=0.653, Recall=0.648, total=  12.7s\n",
      "[CV] hidden_layer_sizes=256 ..........................................\n"
     ]
    },
    {
     "name": "stderr",
     "output_type": "stream",
     "text": [
      "/anaconda3/lib/python3.6/site-packages/sklearn/neural_network/_multilayer_perceptron.py:571: ConvergenceWarning: Stochastic Optimizer: Maximum iterations (200) reached and the optimization hasn't converged yet.\n",
      "  % self.max_iter, ConvergenceWarning)\n"
     ]
    },
    {
     "name": "stdout",
     "output_type": "stream",
     "text": [
      "[CV]  hidden_layer_sizes=256, Accuracy=0.609, F1=0.627, MCC=0.451, Precision=0.632, Recall=0.623, total=  12.9s\n",
      "[CV] hidden_layer_sizes=512 ..........................................\n",
      "[CV]  hidden_layer_sizes=512, Accuracy=0.626, F1=0.651, MCC=0.477, Precision=0.651, Recall=0.650, total=  18.2s\n",
      "[CV] hidden_layer_sizes=512 ..........................................\n",
      "[CV]  hidden_layer_sizes=512, Accuracy=0.642, F1=0.658, MCC=0.499, Precision=0.658, Recall=0.657, total=  16.9s\n",
      "[CV] hidden_layer_sizes=512 ..........................................\n",
      "[CV]  hidden_layer_sizes=512, Accuracy=0.613, F1=0.642, MCC=0.460, Precision=0.642, Recall=0.642, total=  19.0s\n",
      "[CV] hidden_layer_sizes=512 ..........................................\n",
      "[CV]  hidden_layer_sizes=512, Accuracy=0.625, F1=0.652, MCC=0.474, Precision=0.658, Recall=0.647, total=  22.1s\n",
      "[CV] hidden_layer_sizes=512 ..........................................\n",
      "[CV]  hidden_layer_sizes=512, Accuracy=0.615, F1=0.634, MCC=0.461, Precision=0.639, Recall=0.630, total=  18.4s\n"
     ]
    },
    {
     "name": "stderr",
     "output_type": "stream",
     "text": [
      "[Parallel(n_jobs=1)]: Done  20 out of  20 | elapsed:  4.0min finished\n"
     ]
    },
    {
     "name": "stdout",
     "output_type": "stream",
     "text": [
      "Best pemlpormance: 0.6241855328547764\n",
      "With the hyperparameters: {'hidden_layer_sizes': 512}\n"
     ]
    },
    {
     "data": {
      "text/html": [
       "<div>\n",
       "<style scoped>\n",
       "    .dataframe tbody tr th:only-of-type {\n",
       "        vertical-align: middle;\n",
       "    }\n",
       "\n",
       "    .dataframe tbody tr th {\n",
       "        vertical-align: top;\n",
       "    }\n",
       "\n",
       "    .dataframe thead th {\n",
       "        text-align: right;\n",
       "    }\n",
       "</style>\n",
       "<table border=\"1\" class=\"dataframe\">\n",
       "  <thead>\n",
       "    <tr style=\"text-align: right;\">\n",
       "      <th></th>\n",
       "      <th>0</th>\n",
       "      <th>1</th>\n",
       "      <th>2</th>\n",
       "      <th>3</th>\n",
       "    </tr>\n",
       "  </thead>\n",
       "  <tbody>\n",
       "    <tr>\n",
       "      <th>params</th>\n",
       "      <td>{'hidden_layer_sizes': 100}</td>\n",
       "      <td>{'hidden_layer_sizes': 128}</td>\n",
       "      <td>{'hidden_layer_sizes': 256}</td>\n",
       "      <td>{'hidden_layer_sizes': 512}</td>\n",
       "    </tr>\n",
       "    <tr>\n",
       "      <th>mean_test_Accuracy</th>\n",
       "      <td>0.608</td>\n",
       "      <td>0.6059</td>\n",
       "      <td>0.6163</td>\n",
       "      <td>0.6242</td>\n",
       "    </tr>\n",
       "    <tr>\n",
       "      <th>std_test_Accuracy</th>\n",
       "      <td>0.013</td>\n",
       "      <td>0.0037</td>\n",
       "      <td>0.0097</td>\n",
       "      <td>0.0102</td>\n",
       "    </tr>\n",
       "    <tr>\n",
       "      <th>mean_test_Precision</th>\n",
       "      <td>0.6291</td>\n",
       "      <td>0.6289</td>\n",
       "      <td>0.6407</td>\n",
       "      <td>0.6499</td>\n",
       "    </tr>\n",
       "    <tr>\n",
       "      <th>std_test_Precision</th>\n",
       "      <td>0.0124</td>\n",
       "      <td>0.0028</td>\n",
       "      <td>0.01</td>\n",
       "      <td>0.0079</td>\n",
       "    </tr>\n",
       "    <tr>\n",
       "      <th>mean_test_Recall</th>\n",
       "      <td>0.6261</td>\n",
       "      <td>0.6247</td>\n",
       "      <td>0.6369</td>\n",
       "      <td>0.6452</td>\n",
       "    </tr>\n",
       "    <tr>\n",
       "      <th>std_test_Recall</th>\n",
       "      <td>0.0142</td>\n",
       "      <td>0.0038</td>\n",
       "      <td>0.0108</td>\n",
       "      <td>0.0091</td>\n",
       "    </tr>\n",
       "    <tr>\n",
       "      <th>mean_test_F1</th>\n",
       "      <td>0.6275</td>\n",
       "      <td>0.6266</td>\n",
       "      <td>0.6387</td>\n",
       "      <td>0.6473</td>\n",
       "    </tr>\n",
       "    <tr>\n",
       "      <th>std_test_F1</th>\n",
       "      <td>0.0132</td>\n",
       "      <td>0.0021</td>\n",
       "      <td>0.0103</td>\n",
       "      <td>0.0082</td>\n",
       "    </tr>\n",
       "    <tr>\n",
       "      <th>mean_test_MCC</th>\n",
       "      <td>0.452</td>\n",
       "      <td>0.4489</td>\n",
       "      <td>0.4634</td>\n",
       "      <td>0.4742</td>\n",
       "    </tr>\n",
       "    <tr>\n",
       "      <th>std_test_MCC</th>\n",
       "      <td>0.0183</td>\n",
       "      <td>0.0056</td>\n",
       "      <td>0.0138</td>\n",
       "      <td>0.0142</td>\n",
       "    </tr>\n",
       "  </tbody>\n",
       "</table>\n",
       "</div>"
      ],
      "text/plain": [
       "                                               0                            1  \\\n",
       "params               {'hidden_layer_sizes': 100}  {'hidden_layer_sizes': 128}   \n",
       "mean_test_Accuracy                         0.608                       0.6059   \n",
       "std_test_Accuracy                          0.013                       0.0037   \n",
       "mean_test_Precision                       0.6291                       0.6289   \n",
       "std_test_Precision                        0.0124                       0.0028   \n",
       "mean_test_Recall                          0.6261                       0.6247   \n",
       "std_test_Recall                           0.0142                       0.0038   \n",
       "mean_test_F1                              0.6275                       0.6266   \n",
       "std_test_F1                               0.0132                       0.0021   \n",
       "mean_test_MCC                              0.452                       0.4489   \n",
       "std_test_MCC                              0.0183                       0.0056   \n",
       "\n",
       "                                               2                            3  \n",
       "params               {'hidden_layer_sizes': 256}  {'hidden_layer_sizes': 512}  \n",
       "mean_test_Accuracy                        0.6163                       0.6242  \n",
       "std_test_Accuracy                         0.0097                       0.0102  \n",
       "mean_test_Precision                       0.6407                       0.6499  \n",
       "std_test_Precision                          0.01                       0.0079  \n",
       "mean_test_Recall                          0.6369                       0.6452  \n",
       "std_test_Recall                           0.0108                       0.0091  \n",
       "mean_test_F1                              0.6387                       0.6473  \n",
       "std_test_F1                               0.0103                       0.0082  \n",
       "mean_test_MCC                             0.4634                       0.4742  \n",
       "std_test_MCC                              0.0138                       0.0142  "
      ]
     },
     "execution_count": 11,
     "metadata": {},
     "output_type": "execute_result"
    }
   ],
   "source": [
    "from sklearn.neural_network import MLPClassifier\n",
    "\n",
    "# Define some hyperparameters we are going to test\n",
    "param_dist = {\"hidden_layer_sizes\": [100,128,256,512]}\n",
    "\n",
    "# Make a handle for our model (initialization or our model without fitted parameters)\n",
    "mlp = MLPClassifier(random_state=79)\n",
    "\n",
    "mlp_random_search_res = cross_validate(mlp,\n",
    "                                       full_x,\n",
    "                                       full_y,\n",
    "                                       param_dist,\n",
    "                                       5)\n",
    "\n",
    "print(\"Best pemlpormance: %s\" % (mlp_random_search_res.best_score_))\n",
    "print(\"With the hyperparameters: %s\" % (mlp_random_search_res.best_params_))\n",
    "\n",
    "# Print cross-validation results\n",
    "mlp_df = pd.DataFrame.from_dict(mlp_random_search_res.cv_results_)[columns].round(4)\n",
    "mlp_result = mlp_df[mlp_df['params']==mlp_random_search_res.best_params_].reset_index(drop=True).to_dict('records')[0]\n",
    "table = make_row(table, mlp_result, \"MLP\")\n",
    "mlp_df.T"
   ]
  },
  {
   "cell_type": "markdown",
   "metadata": {},
   "source": [
    "### Test using SVM"
   ]
  },
  {
   "cell_type": "code",
   "execution_count": 12,
   "metadata": {
    "scrolled": true
   },
   "outputs": [
    {
     "name": "stdout",
     "output_type": "stream",
     "text": [
      "Fitting 5 folds for each of 5 candidates, totalling 25 fits\n",
      "[CV] C=1 .............................................................\n"
     ]
    },
    {
     "name": "stderr",
     "output_type": "stream",
     "text": [
      "[Parallel(n_jobs=1)]: Using backend SequentialBackend with 1 concurrent workers.\n"
     ]
    },
    {
     "name": "stdout",
     "output_type": "stream",
     "text": [
      "[CV]  C=1, Accuracy=0.684, F1=0.705, MCC=0.558, Precision=0.706, Recall=0.704, total=   6.2s\n",
      "[CV] C=1 .............................................................\n"
     ]
    },
    {
     "name": "stderr",
     "output_type": "stream",
     "text": [
      "[Parallel(n_jobs=1)]: Done   1 out of   1 | elapsed:    6.2s remaining:    0.0s\n"
     ]
    },
    {
     "name": "stdout",
     "output_type": "stream",
     "text": [
      "[CV]  C=1, Accuracy=0.694, F1=0.710, MCC=0.572, Precision=0.713, Recall=0.707, total=   6.6s\n",
      "[CV] C=1 .............................................................\n"
     ]
    },
    {
     "name": "stderr",
     "output_type": "stream",
     "text": [
      "[Parallel(n_jobs=1)]: Done   2 out of   2 | elapsed:   12.8s remaining:    0.0s\n"
     ]
    },
    {
     "name": "stdout",
     "output_type": "stream",
     "text": [
      "[CV]  C=1, Accuracy=0.661, F1=0.686, MCC=0.527, Precision=0.686, Recall=0.686, total=   6.4s\n",
      "[CV] C=1 .............................................................\n",
      "[CV]  C=1, Accuracy=0.664, F1=0.691, MCC=0.529, Precision=0.697, Recall=0.686, total=   6.8s\n",
      "[CV] C=1 .............................................................\n",
      "[CV]  C=1, Accuracy=0.669, F1=0.692, MCC=0.538, Precision=0.696, Recall=0.688, total=   6.8s\n",
      "[CV] C=2 .............................................................\n",
      "[CV]  C=2, Accuracy=0.697, F1=0.719, MCC=0.578, Precision=0.721, Recall=0.718, total=   6.2s\n",
      "[CV] C=2 .............................................................\n",
      "[CV]  C=2, Accuracy=0.697, F1=0.712, MCC=0.576, Precision=0.714, Recall=0.710, total=   6.2s\n",
      "[CV] C=2 .............................................................\n",
      "[CV]  C=2, Accuracy=0.668, F1=0.693, MCC=0.537, Precision=0.692, Recall=0.694, total=   6.3s\n",
      "[CV] C=2 .............................................................\n",
      "[CV]  C=2, Accuracy=0.670, F1=0.697, MCC=0.538, Precision=0.703, Recall=0.693, total=   6.8s\n",
      "[CV] C=2 .............................................................\n",
      "[CV]  C=2, Accuracy=0.669, F1=0.690, MCC=0.537, Precision=0.694, Recall=0.687, total=   6.5s\n",
      "[CV] C=3 .............................................................\n",
      "[CV]  C=3, Accuracy=0.690, F1=0.712, MCC=0.567, Precision=0.716, Recall=0.710, total=   6.8s\n",
      "[CV] C=3 .............................................................\n",
      "[CV]  C=3, Accuracy=0.687, F1=0.704, MCC=0.562, Precision=0.705, Recall=0.702, total=   6.7s\n",
      "[CV] C=3 .............................................................\n",
      "[CV]  C=3, Accuracy=0.664, F1=0.689, MCC=0.532, Precision=0.688, Recall=0.691, total=   6.7s\n",
      "[CV] C=3 .............................................................\n",
      "[CV]  C=3, Accuracy=0.676, F1=0.703, MCC=0.547, Precision=0.707, Recall=0.700, total=   6.6s\n",
      "[CV] C=3 .............................................................\n",
      "[CV]  C=3, Accuracy=0.674, F1=0.696, MCC=0.544, Precision=0.700, Recall=0.692, total=   7.1s\n",
      "[CV] C=5 .............................................................\n",
      "[CV]  C=5, Accuracy=0.681, F1=0.704, MCC=0.555, Precision=0.705, Recall=0.704, total=   7.6s\n",
      "[CV] C=5 .............................................................\n",
      "[CV]  C=5, Accuracy=0.674, F1=0.693, MCC=0.544, Precision=0.696, Recall=0.690, total=   7.6s\n",
      "[CV] C=5 .............................................................\n",
      "[CV]  C=5, Accuracy=0.657, F1=0.686, MCC=0.522, Precision=0.686, Recall=0.686, total=   7.1s\n",
      "[CV] C=5 .............................................................\n",
      "[CV]  C=5, Accuracy=0.664, F1=0.691, MCC=0.530, Precision=0.696, Recall=0.688, total=   7.8s\n",
      "[CV] C=5 .............................................................\n",
      "[CV]  C=5, Accuracy=0.669, F1=0.690, MCC=0.536, Precision=0.697, Recall=0.684, total=   7.3s\n",
      "[CV] C=10 ............................................................\n",
      "[CV]  C=10, Accuracy=0.666, F1=0.689, MCC=0.533, Precision=0.692, Recall=0.687, total=   8.7s\n",
      "[CV] C=10 ............................................................\n",
      "[CV]  C=10, Accuracy=0.676, F1=0.693, MCC=0.546, Precision=0.698, Recall=0.688, total=   8.7s\n",
      "[CV] C=10 ............................................................\n",
      "[CV]  C=10, Accuracy=0.646, F1=0.675, MCC=0.506, Precision=0.677, Recall=0.674, total=   8.1s\n",
      "[CV] C=10 ............................................................\n",
      "[CV]  C=10, Accuracy=0.665, F1=0.694, MCC=0.532, Precision=0.696, Recall=0.691, total=   8.3s\n",
      "[CV] C=10 ............................................................\n",
      "[CV]  C=10, Accuracy=0.655, F1=0.675, MCC=0.516, Precision=0.682, Recall=0.669, total=   8.0s\n"
     ]
    },
    {
     "name": "stderr",
     "output_type": "stream",
     "text": [
      "[Parallel(n_jobs=1)]: Done  25 out of  25 | elapsed:  3.0min finished\n"
     ]
    },
    {
     "name": "stdout",
     "output_type": "stream",
     "text": [
      "Best performance: 0.6800662617338487\n",
      "With the hyperparameters: {'C': 2}\n"
     ]
    },
    {
     "data": {
      "text/html": [
       "<div>\n",
       "<style scoped>\n",
       "    .dataframe tbody tr th:only-of-type {\n",
       "        vertical-align: middle;\n",
       "    }\n",
       "\n",
       "    .dataframe tbody tr th {\n",
       "        vertical-align: top;\n",
       "    }\n",
       "\n",
       "    .dataframe thead th {\n",
       "        text-align: right;\n",
       "    }\n",
       "</style>\n",
       "<table border=\"1\" class=\"dataframe\">\n",
       "  <thead>\n",
       "    <tr style=\"text-align: right;\">\n",
       "      <th></th>\n",
       "      <th>0</th>\n",
       "      <th>1</th>\n",
       "      <th>2</th>\n",
       "      <th>3</th>\n",
       "      <th>4</th>\n",
       "    </tr>\n",
       "  </thead>\n",
       "  <tbody>\n",
       "    <tr>\n",
       "      <th>params</th>\n",
       "      <td>{'C': 1}</td>\n",
       "      <td>{'C': 2}</td>\n",
       "      <td>{'C': 3}</td>\n",
       "      <td>{'C': 5}</td>\n",
       "      <td>{'C': 10}</td>\n",
       "    </tr>\n",
       "    <tr>\n",
       "      <th>mean_test_Accuracy</th>\n",
       "      <td>0.6743</td>\n",
       "      <td>0.6801</td>\n",
       "      <td>0.678</td>\n",
       "      <td>0.669</td>\n",
       "      <td>0.6616</td>\n",
       "    </tr>\n",
       "    <tr>\n",
       "      <th>std_test_Accuracy</th>\n",
       "      <td>0.0126</td>\n",
       "      <td>0.0139</td>\n",
       "      <td>0.0094</td>\n",
       "      <td>0.0084</td>\n",
       "      <td>0.0102</td>\n",
       "    </tr>\n",
       "    <tr>\n",
       "      <th>mean_test_Precision</th>\n",
       "      <td>0.6998</td>\n",
       "      <td>0.705</td>\n",
       "      <td>0.7034</td>\n",
       "      <td>0.6959</td>\n",
       "      <td>0.6892</td>\n",
       "    </tr>\n",
       "    <tr>\n",
       "      <th>std_test_Precision</th>\n",
       "      <td>0.0093</td>\n",
       "      <td>0.0113</td>\n",
       "      <td>0.0092</td>\n",
       "      <td>0.006</td>\n",
       "      <td>0.0081</td>\n",
       "    </tr>\n",
       "    <tr>\n",
       "      <th>mean_test_Recall</th>\n",
       "      <td>0.6942</td>\n",
       "      <td>0.7005</td>\n",
       "      <td>0.6991</td>\n",
       "      <td>0.6904</td>\n",
       "      <td>0.682</td>\n",
       "    </tr>\n",
       "    <tr>\n",
       "      <th>std_test_Recall</th>\n",
       "      <td>0.0093</td>\n",
       "      <td>0.0116</td>\n",
       "      <td>0.0071</td>\n",
       "      <td>0.0071</td>\n",
       "      <td>0.0086</td>\n",
       "    </tr>\n",
       "    <tr>\n",
       "      <th>mean_test_F1</th>\n",
       "      <td>0.6965</td>\n",
       "      <td>0.7023</td>\n",
       "      <td>0.7008</td>\n",
       "      <td>0.6928</td>\n",
       "      <td>0.6852</td>\n",
       "    </tr>\n",
       "    <tr>\n",
       "      <th>std_test_F1</th>\n",
       "      <td>0.0089</td>\n",
       "      <td>0.0113</td>\n",
       "      <td>0.0079</td>\n",
       "      <td>0.0061</td>\n",
       "      <td>0.0083</td>\n",
       "    </tr>\n",
       "    <tr>\n",
       "      <th>mean_test_MCC</th>\n",
       "      <td>0.5447</td>\n",
       "      <td>0.5532</td>\n",
       "      <td>0.5503</td>\n",
       "      <td>0.5375</td>\n",
       "      <td>0.5268</td>\n",
       "    </tr>\n",
       "    <tr>\n",
       "      <th>std_test_MCC</th>\n",
       "      <td>0.0176</td>\n",
       "      <td>0.0193</td>\n",
       "      <td>0.0129</td>\n",
       "      <td>0.0116</td>\n",
       "      <td>0.0139</td>\n",
       "    </tr>\n",
       "  </tbody>\n",
       "</table>\n",
       "</div>"
      ],
      "text/plain": [
       "                            0         1         2         3          4\n",
       "params               {'C': 1}  {'C': 2}  {'C': 3}  {'C': 5}  {'C': 10}\n",
       "mean_test_Accuracy     0.6743    0.6801     0.678     0.669     0.6616\n",
       "std_test_Accuracy      0.0126    0.0139    0.0094    0.0084     0.0102\n",
       "mean_test_Precision    0.6998     0.705    0.7034    0.6959     0.6892\n",
       "std_test_Precision     0.0093    0.0113    0.0092     0.006     0.0081\n",
       "mean_test_Recall       0.6942    0.7005    0.6991    0.6904      0.682\n",
       "std_test_Recall        0.0093    0.0116    0.0071    0.0071     0.0086\n",
       "mean_test_F1           0.6965    0.7023    0.7008    0.6928     0.6852\n",
       "std_test_F1            0.0089    0.0113    0.0079    0.0061     0.0083\n",
       "mean_test_MCC          0.5447    0.5532    0.5503    0.5375     0.5268\n",
       "std_test_MCC           0.0176    0.0193    0.0129    0.0116     0.0139"
      ]
     },
     "execution_count": 12,
     "metadata": {},
     "output_type": "execute_result"
    }
   ],
   "source": [
    "from sklearn.svm import SVC\n",
    "\n",
    "# Define some hyperparameters we are going to test\n",
    "param_dist = {\"C\": [1,2,3,5,10]}\n",
    "\n",
    "# Make a handle for our model (initialization or our model without fitted parameters)\n",
    "svm = SVC(random_state=79)\n",
    "\n",
    "svm_random_search_res = cross_validate(svm,\n",
    "                                       full_x,\n",
    "                                       full_y,\n",
    "                                       param_dist,\n",
    "                                       5)\n",
    "\n",
    "print(\"Best performance: %s\" % (svm_random_search_res.best_score_))\n",
    "print(\"With the hyperparameters: %s\" % (svm_random_search_res.best_params_))\n",
    "\n",
    "# Print cross-validation results\n",
    "svm_df = pd.DataFrame.from_dict(svm_random_search_res.cv_results_)[columns].round(4)\n",
    "svm_result = svm_df[svm_df['params']==svm_random_search_res.best_params_].reset_index(drop=True).to_dict('records')[0]\n",
    "table = make_row(table, svm_result, \"SVM\")\n",
    "svm_df.T"
   ]
  },
  {
   "cell_type": "markdown",
   "metadata": {},
   "source": [
    "### Test using GNB"
   ]
  },
  {
   "cell_type": "code",
   "execution_count": 13,
   "metadata": {
    "scrolled": true
   },
   "outputs": [
    {
     "name": "stdout",
     "output_type": "stream",
     "text": [
      "Fitting 5 folds for each of 1 candidates, totalling 5 fits\n",
      "[CV] priors=None .....................................................\n",
      "[CV]  priors=None, Accuracy=0.544, F1=0.555, MCC=0.390, Precision=0.562, Recall=0.582, total=   0.0s\n",
      "[CV] priors=None .....................................................\n",
      "[CV]  priors=None, Accuracy=0.545, F1=0.554, MCC=0.390, Precision=0.559, Recall=0.582, total=   0.0s\n",
      "[CV] priors=None .....................................................\n",
      "[CV]  priors=None, Accuracy=0.538, F1=0.554, MCC=0.383, Precision=0.562, Recall=0.584, total=   0.0s\n",
      "[CV] priors=None .....................................................\n",
      "[CV]  priors=None, Accuracy=0.535, F1=0.552, MCC=0.372, Precision=0.558, Recall=0.576, total=   0.0s\n",
      "[CV] priors=None .....................................................\n",
      "[CV]  priors=None, Accuracy=0.543, F1=0.560, MCC=0.389, Precision=0.573, Recall=0.585, total=   0.0s\n",
      "Best pegnbormance: 0.5410270568746548\n",
      "With the hyperparameters: {'priors': None}\n"
     ]
    },
    {
     "name": "stderr",
     "output_type": "stream",
     "text": [
      "[Parallel(n_jobs=1)]: Using backend SequentialBackend with 1 concurrent workers.\n",
      "[Parallel(n_jobs=1)]: Done   1 out of   1 | elapsed:    0.0s remaining:    0.0s\n",
      "[Parallel(n_jobs=1)]: Done   2 out of   2 | elapsed:    0.1s remaining:    0.0s\n",
      "[Parallel(n_jobs=1)]: Done   5 out of   5 | elapsed:    0.1s finished\n"
     ]
    },
    {
     "data": {
      "text/html": [
       "<div>\n",
       "<style scoped>\n",
       "    .dataframe tbody tr th:only-of-type {\n",
       "        vertical-align: middle;\n",
       "    }\n",
       "\n",
       "    .dataframe tbody tr th {\n",
       "        vertical-align: top;\n",
       "    }\n",
       "\n",
       "    .dataframe thead th {\n",
       "        text-align: right;\n",
       "    }\n",
       "</style>\n",
       "<table border=\"1\" class=\"dataframe\">\n",
       "  <thead>\n",
       "    <tr style=\"text-align: right;\">\n",
       "      <th></th>\n",
       "      <th>0</th>\n",
       "    </tr>\n",
       "  </thead>\n",
       "  <tbody>\n",
       "    <tr>\n",
       "      <th>params</th>\n",
       "      <td>{'priors': None}</td>\n",
       "    </tr>\n",
       "    <tr>\n",
       "      <th>mean_test_Accuracy</th>\n",
       "      <td>0.541</td>\n",
       "    </tr>\n",
       "    <tr>\n",
       "      <th>std_test_Accuracy</th>\n",
       "      <td>0.004</td>\n",
       "    </tr>\n",
       "    <tr>\n",
       "      <th>mean_test_Precision</th>\n",
       "      <td>0.5628</td>\n",
       "    </tr>\n",
       "    <tr>\n",
       "      <th>std_test_Precision</th>\n",
       "      <td>0.0051</td>\n",
       "    </tr>\n",
       "    <tr>\n",
       "      <th>mean_test_Recall</th>\n",
       "      <td>0.5817</td>\n",
       "    </tr>\n",
       "    <tr>\n",
       "      <th>std_test_Recall</th>\n",
       "      <td>0.003</td>\n",
       "    </tr>\n",
       "    <tr>\n",
       "      <th>mean_test_F1</th>\n",
       "      <td>0.555</td>\n",
       "    </tr>\n",
       "    <tr>\n",
       "      <th>std_test_F1</th>\n",
       "      <td>0.0027</td>\n",
       "    </tr>\n",
       "    <tr>\n",
       "      <th>mean_test_MCC</th>\n",
       "      <td>0.3847</td>\n",
       "    </tr>\n",
       "    <tr>\n",
       "      <th>std_test_MCC</th>\n",
       "      <td>0.007</td>\n",
       "    </tr>\n",
       "  </tbody>\n",
       "</table>\n",
       "</div>"
      ],
      "text/plain": [
       "                                    0\n",
       "params               {'priors': None}\n",
       "mean_test_Accuracy              0.541\n",
       "std_test_Accuracy               0.004\n",
       "mean_test_Precision            0.5628\n",
       "std_test_Precision             0.0051\n",
       "mean_test_Recall               0.5817\n",
       "std_test_Recall                 0.003\n",
       "mean_test_F1                    0.555\n",
       "std_test_F1                    0.0027\n",
       "mean_test_MCC                  0.3847\n",
       "std_test_MCC                    0.007"
      ]
     },
     "execution_count": 13,
     "metadata": {},
     "output_type": "execute_result"
    }
   ],
   "source": [
    "from sklearn.naive_bayes import GaussianNB\n",
    "# Define some hyperparameters we are going to test\n",
    "param_dist = {\"priors\":[None]}\n",
    "\n",
    "# Make a handle for our model (initialization or our model without fitted parameters)\n",
    "gnb = GaussianNB()\n",
    "\n",
    "gnb_random_search_res = cross_validate(gnb,\n",
    "                                       full_x,\n",
    "                                       full_y,\n",
    "                                       param_dist,\n",
    "                                       5)\n",
    "\n",
    "print(\"Best pegnbormance: %s\" % (gnb_random_search_res.best_score_))\n",
    "print(\"With the hyperparameters: %s\" % (gnb_random_search_res.best_params_))\n",
    "\n",
    "# Print cross-validation results\n",
    "gnb_df = pd.DataFrame.from_dict(gnb_random_search_res.cv_results_)[columns].round(4)\n",
    "gnb_result = gnb_df[gnb_df['params']==gnb_random_search_res.best_params_].reset_index(drop=True).to_dict('records')[0]\n",
    "table = make_row(table, gnb_result, \"GNB\")\n",
    "gnb_df.T"
   ]
  },
  {
   "cell_type": "markdown",
   "metadata": {},
   "source": [
    "### Test using LDA"
   ]
  },
  {
   "cell_type": "code",
   "execution_count": 14,
   "metadata": {
    "scrolled": true
   },
   "outputs": [
    {
     "name": "stdout",
     "output_type": "stream",
     "text": [
      "Fitting 5 folds for each of 1 candidates, totalling 5 fits\n",
      "[CV] priors=None .....................................................\n"
     ]
    },
    {
     "name": "stderr",
     "output_type": "stream",
     "text": [
      "[Parallel(n_jobs=1)]: Using backend SequentialBackend with 1 concurrent workers.\n"
     ]
    },
    {
     "name": "stdout",
     "output_type": "stream",
     "text": [
      "[CV]  priors=None, Accuracy=0.621, F1=0.637, MCC=0.472, Precision=0.640, Recall=0.636, total=   0.1s\n",
      "[CV] priors=None .....................................................\n"
     ]
    },
    {
     "name": "stderr",
     "output_type": "stream",
     "text": [
      "[Parallel(n_jobs=1)]: Done   1 out of   1 | elapsed:    0.1s remaining:    0.0s\n"
     ]
    },
    {
     "name": "stdout",
     "output_type": "stream",
     "text": [
      "[CV]  priors=None, Accuracy=0.624, F1=0.640, MCC=0.474, Precision=0.644, Recall=0.639, total=   0.1s\n",
      "[CV] priors=None .....................................................\n"
     ]
    },
    {
     "name": "stderr",
     "output_type": "stream",
     "text": [
      "[Parallel(n_jobs=1)]: Done   2 out of   2 | elapsed:    0.2s remaining:    0.0s\n"
     ]
    },
    {
     "name": "stdout",
     "output_type": "stream",
     "text": [
      "[CV]  priors=None, Accuracy=0.615, F1=0.634, MCC=0.462, Precision=0.641, Recall=0.631, total=   0.1s\n",
      "[CV] priors=None .....................................................\n",
      "[CV]  priors=None, Accuracy=0.599, F1=0.619, MCC=0.436, Precision=0.628, Recall=0.611, total=   0.2s\n",
      "[CV] priors=None .....................................................\n",
      "[CV]  priors=None, Accuracy=0.602, F1=0.621, MCC=0.442, Precision=0.629, Recall=0.615, total=   0.2s\n"
     ]
    },
    {
     "name": "stderr",
     "output_type": "stream",
     "text": [
      "[Parallel(n_jobs=1)]: Done   5 out of   5 | elapsed:    0.7s finished\n"
     ]
    },
    {
     "name": "stdout",
     "output_type": "stream",
     "text": [
      "Best peldaormance: 0.6121479845389288\n",
      "With the hyperparameters: {'priors': None}\n"
     ]
    },
    {
     "data": {
      "text/html": [
       "<div>\n",
       "<style scoped>\n",
       "    .dataframe tbody tr th:only-of-type {\n",
       "        vertical-align: middle;\n",
       "    }\n",
       "\n",
       "    .dataframe tbody tr th {\n",
       "        vertical-align: top;\n",
       "    }\n",
       "\n",
       "    .dataframe thead th {\n",
       "        text-align: right;\n",
       "    }\n",
       "</style>\n",
       "<table border=\"1\" class=\"dataframe\">\n",
       "  <thead>\n",
       "    <tr style=\"text-align: right;\">\n",
       "      <th></th>\n",
       "      <th>0</th>\n",
       "    </tr>\n",
       "  </thead>\n",
       "  <tbody>\n",
       "    <tr>\n",
       "      <th>params</th>\n",
       "      <td>{'priors': None}</td>\n",
       "    </tr>\n",
       "    <tr>\n",
       "      <th>mean_test_Accuracy</th>\n",
       "      <td>0.6121</td>\n",
       "    </tr>\n",
       "    <tr>\n",
       "      <th>std_test_Accuracy</th>\n",
       "      <td>0.0102</td>\n",
       "    </tr>\n",
       "    <tr>\n",
       "      <th>mean_test_Precision</th>\n",
       "      <td>0.6366</td>\n",
       "    </tr>\n",
       "    <tr>\n",
       "      <th>std_test_Precision</th>\n",
       "      <td>0.0066</td>\n",
       "    </tr>\n",
       "    <tr>\n",
       "      <th>mean_test_Recall</th>\n",
       "      <td>0.6266</td>\n",
       "    </tr>\n",
       "    <tr>\n",
       "      <th>std_test_Recall</th>\n",
       "      <td>0.0113</td>\n",
       "    </tr>\n",
       "    <tr>\n",
       "      <th>mean_test_F1</th>\n",
       "      <td>0.6301</td>\n",
       "    </tr>\n",
       "    <tr>\n",
       "      <th>std_test_F1</th>\n",
       "      <td>0.0086</td>\n",
       "    </tr>\n",
       "    <tr>\n",
       "      <th>mean_test_MCC</th>\n",
       "      <td>0.4571</td>\n",
       "    </tr>\n",
       "    <tr>\n",
       "      <th>std_test_MCC</th>\n",
       "      <td>0.0155</td>\n",
       "    </tr>\n",
       "  </tbody>\n",
       "</table>\n",
       "</div>"
      ],
      "text/plain": [
       "                                    0\n",
       "params               {'priors': None}\n",
       "mean_test_Accuracy             0.6121\n",
       "std_test_Accuracy              0.0102\n",
       "mean_test_Precision            0.6366\n",
       "std_test_Precision             0.0066\n",
       "mean_test_Recall               0.6266\n",
       "std_test_Recall                0.0113\n",
       "mean_test_F1                   0.6301\n",
       "std_test_F1                    0.0086\n",
       "mean_test_MCC                  0.4571\n",
       "std_test_MCC                   0.0155"
      ]
     },
     "execution_count": 14,
     "metadata": {},
     "output_type": "execute_result"
    }
   ],
   "source": [
    "from sklearn.discriminant_analysis import LinearDiscriminantAnalysis\n",
    "# Define some hyperparameters we are going to test\n",
    "param_dist = {\"priors\":[None]}\n",
    "\n",
    "# Make a handle for our model (initialization or our model without fitted parameters)\n",
    "lda = LinearDiscriminantAnalysis()\n",
    "\n",
    "lda_random_search_res = cross_validate(lda,\n",
    "                                       full_x,\n",
    "                                       full_y,\n",
    "                                       param_dist,\n",
    "                                       5)\n",
    "\n",
    "print(\"Best peldaormance: %s\" % (lda_random_search_res.best_score_))\n",
    "print(\"With the hyperparameters: %s\" % (lda_random_search_res.best_params_))\n",
    "\n",
    "# Print cross-validation results\n",
    "lda_df = pd.DataFrame.from_dict(lda_random_search_res.cv_results_)[columns].round(4)\n",
    "lda_result = lda_df[lda_df['params']==lda_random_search_res.best_params_].reset_index(drop=True).to_dict('records')[0]\n",
    "table = make_row(table, lda_result, \"LDA\")\n",
    "lda_df.T"
   ]
  },
  {
   "cell_type": "markdown",
   "metadata": {},
   "source": [
    "### Test using KNN"
   ]
  },
  {
   "cell_type": "code",
   "execution_count": 15,
   "metadata": {
    "scrolled": true
   },
   "outputs": [
    {
     "name": "stdout",
     "output_type": "stream",
     "text": [
      "Fitting 5 folds for each of 14 candidates, totalling 70 fits\n",
      "[CV] n_neighbors=1 ...................................................\n"
     ]
    },
    {
     "name": "stderr",
     "output_type": "stream",
     "text": [
      "[Parallel(n_jobs=1)]: Using backend SequentialBackend with 1 concurrent workers.\n"
     ]
    },
    {
     "name": "stdout",
     "output_type": "stream",
     "text": [
      "[CV]  n_neighbors=1, Accuracy=0.604, F1=0.617, MCC=0.445, Precision=0.628, Recall=0.610, total=   2.1s\n",
      "[CV] n_neighbors=1 ...................................................\n"
     ]
    },
    {
     "name": "stderr",
     "output_type": "stream",
     "text": [
      "[Parallel(n_jobs=1)]: Done   1 out of   1 | elapsed:    2.1s remaining:    0.0s\n"
     ]
    },
    {
     "name": "stdout",
     "output_type": "stream",
     "text": [
      "[CV]  n_neighbors=1, Accuracy=0.578, F1=0.580, MCC=0.413, Precision=0.592, Recall=0.576, total=   2.1s\n",
      "[CV] n_neighbors=1 ...................................................\n"
     ]
    },
    {
     "name": "stderr",
     "output_type": "stream",
     "text": [
      "[Parallel(n_jobs=1)]: Done   2 out of   2 | elapsed:    4.3s remaining:    0.0s\n"
     ]
    },
    {
     "name": "stdout",
     "output_type": "stream",
     "text": [
      "[CV]  n_neighbors=1, Accuracy=0.563, F1=0.578, MCC=0.391, Precision=0.590, Recall=0.572, total=   2.0s\n",
      "[CV] n_neighbors=1 ...................................................\n",
      "[CV]  n_neighbors=1, Accuracy=0.581, F1=0.591, MCC=0.415, Precision=0.601, Recall=0.586, total=   2.1s\n",
      "[CV] n_neighbors=1 ...................................................\n",
      "[CV]  n_neighbors=1, Accuracy=0.578, F1=0.585, MCC=0.413, Precision=0.594, Recall=0.581, total=   2.1s\n",
      "[CV] n_neighbors=2 ...................................................\n",
      "[CV]  n_neighbors=2, Accuracy=0.558, F1=0.562, MCC=0.406, Precision=0.620, Recall=0.558, total=   2.0s\n",
      "[CV] n_neighbors=2 ...................................................\n",
      "[CV]  n_neighbors=2, Accuracy=0.556, F1=0.556, MCC=0.406, Precision=0.615, Recall=0.556, total=   2.3s\n",
      "[CV] n_neighbors=2 ...................................................\n",
      "[CV]  n_neighbors=2, Accuracy=0.550, F1=0.556, MCC=0.398, Precision=0.613, Recall=0.558, total=   2.1s\n",
      "[CV] n_neighbors=2 ...................................................\n",
      "[CV]  n_neighbors=2, Accuracy=0.554, F1=0.558, MCC=0.402, Precision=0.617, Recall=0.556, total=   2.3s\n",
      "[CV] n_neighbors=2 ...................................................\n",
      "[CV]  n_neighbors=2, Accuracy=0.572, F1=0.571, MCC=0.427, Precision=0.630, Recall=0.570, total=   2.1s\n",
      "[CV] n_neighbors=3 ...................................................\n",
      "[CV]  n_neighbors=3, Accuracy=0.607, F1=0.620, MCC=0.453, Precision=0.653, Recall=0.605, total=   2.1s\n",
      "[CV] n_neighbors=3 ...................................................\n",
      "[CV]  n_neighbors=3, Accuracy=0.610, F1=0.623, MCC=0.454, Precision=0.655, Recall=0.607, total=   2.2s\n",
      "[CV] n_neighbors=3 ...................................................\n",
      "[CV]  n_neighbors=3, Accuracy=0.585, F1=0.604, MCC=0.421, Precision=0.640, Recall=0.587, total=   2.4s\n",
      "[CV] n_neighbors=3 ...................................................\n",
      "[CV]  n_neighbors=3, Accuracy=0.596, F1=0.609, MCC=0.434, Precision=0.640, Recall=0.593, total=   2.2s\n",
      "[CV] n_neighbors=3 ...................................................\n",
      "[CV]  n_neighbors=3, Accuracy=0.598, F1=0.615, MCC=0.440, Precision=0.648, Recall=0.600, total=   2.4s\n",
      "[CV] n_neighbors=4 ...................................................\n",
      "[CV]  n_neighbors=4, Accuracy=0.594, F1=0.613, MCC=0.440, Precision=0.649, Recall=0.602, total=   2.3s\n",
      "[CV] n_neighbors=4 ...................................................\n",
      "[CV]  n_neighbors=4, Accuracy=0.600, F1=0.615, MCC=0.449, Precision=0.652, Recall=0.605, total=   2.1s\n",
      "[CV] n_neighbors=4 ...................................................\n",
      "[CV]  n_neighbors=4, Accuracy=0.584, F1=0.603, MCC=0.428, Precision=0.639, Recall=0.595, total=   2.1s\n",
      "[CV] n_neighbors=4 ...................................................\n",
      "[CV]  n_neighbors=4, Accuracy=0.584, F1=0.603, MCC=0.425, Precision=0.634, Recall=0.593, total=   2.0s\n",
      "[CV] n_neighbors=4 ...................................................\n",
      "[CV]  n_neighbors=4, Accuracy=0.595, F1=0.612, MCC=0.442, Precision=0.650, Recall=0.600, total=   2.0s\n",
      "[CV] n_neighbors=5 ...................................................\n",
      "[CV]  n_neighbors=5, Accuracy=0.612, F1=0.628, MCC=0.463, Precision=0.654, Recall=0.620, total=   2.1s\n",
      "[CV] n_neighbors=5 ...................................................\n",
      "[CV]  n_neighbors=5, Accuracy=0.611, F1=0.624, MCC=0.458, Precision=0.653, Recall=0.612, total=   2.1s\n",
      "[CV] n_neighbors=5 ...................................................\n",
      "[CV]  n_neighbors=5, Accuracy=0.584, F1=0.604, MCC=0.423, Precision=0.633, Recall=0.594, total=   2.1s\n",
      "[CV] n_neighbors=5 ...................................................\n",
      "[CV]  n_neighbors=5, Accuracy=0.600, F1=0.622, MCC=0.442, Precision=0.647, Recall=0.610, total=   2.0s\n",
      "[CV] n_neighbors=5 ...................................................\n",
      "[CV]  n_neighbors=5, Accuracy=0.606, F1=0.622, MCC=0.452, Precision=0.650, Recall=0.610, total=   2.1s\n",
      "[CV] n_neighbors=6 ...................................................\n",
      "[CV]  n_neighbors=6, Accuracy=0.611, F1=0.629, MCC=0.465, Precision=0.665, Recall=0.619, total=   2.1s\n",
      "[CV] n_neighbors=6 ...................................................\n",
      "[CV]  n_neighbors=6, Accuracy=0.606, F1=0.624, MCC=0.454, Precision=0.659, Recall=0.611, total=   2.0s\n",
      "[CV] n_neighbors=6 ...................................................\n",
      "[CV]  n_neighbors=6, Accuracy=0.601, F1=0.623, MCC=0.452, Precision=0.658, Recall=0.614, total=   2.4s\n",
      "[CV] n_neighbors=6 ...................................................\n",
      "[CV]  n_neighbors=6, Accuracy=0.604, F1=0.624, MCC=0.453, Precision=0.664, Recall=0.610, total=   2.2s\n",
      "[CV] n_neighbors=6 ...................................................\n",
      "[CV]  n_neighbors=6, Accuracy=0.607, F1=0.626, MCC=0.458, Precision=0.664, Recall=0.614, total=   2.1s\n",
      "[CV] n_neighbors=7 ...................................................\n",
      "[CV]  n_neighbors=7, Accuracy=0.616, F1=0.635, MCC=0.468, Precision=0.662, Recall=0.626, total=   2.0s\n",
      "[CV] n_neighbors=7 ...................................................\n",
      "[CV]  n_neighbors=7, Accuracy=0.620, F1=0.636, MCC=0.470, Precision=0.662, Recall=0.624, total=   2.0s\n",
      "[CV] n_neighbors=7 ...................................................\n",
      "[CV]  n_neighbors=7, Accuracy=0.601, F1=0.625, MCC=0.448, Precision=0.655, Recall=0.615, total=   2.1s\n",
      "[CV] n_neighbors=7 ...................................................\n",
      "[CV]  n_neighbors=7, Accuracy=0.605, F1=0.626, MCC=0.448, Precision=0.654, Recall=0.612, total=   2.1s\n",
      "[CV] n_neighbors=7 ...................................................\n",
      "[CV]  n_neighbors=7, Accuracy=0.620, F1=0.639, MCC=0.471, Precision=0.670, Recall=0.626, total=   2.1s\n",
      "[CV] n_neighbors=8 ...................................................\n",
      "[CV]  n_neighbors=8, Accuracy=0.614, F1=0.632, MCC=0.469, Precision=0.666, Recall=0.623, total=   2.0s\n",
      "[CV] n_neighbors=8 ...................................................\n",
      "[CV]  n_neighbors=8, Accuracy=0.604, F1=0.622, MCC=0.451, Precision=0.654, Recall=0.611, total=   2.1s\n",
      "[CV] n_neighbors=8 ...................................................\n",
      "[CV]  n_neighbors=8, Accuracy=0.609, F1=0.632, MCC=0.461, Precision=0.666, Recall=0.622, total=   2.1s\n",
      "[CV] n_neighbors=8 ...................................................\n",
      "[CV]  n_neighbors=8, Accuracy=0.600, F1=0.622, MCC=0.446, Precision=0.651, Recall=0.611, total=   2.0s\n",
      "[CV] n_neighbors=8 ...................................................\n",
      "[CV]  n_neighbors=8, Accuracy=0.601, F1=0.621, MCC=0.448, Precision=0.656, Recall=0.610, total=   2.1s\n",
      "[CV] n_neighbors=9 ...................................................\n",
      "[CV]  n_neighbors=9, Accuracy=0.623, F1=0.639, MCC=0.477, Precision=0.672, Recall=0.626, total=   2.1s\n",
      "[CV] n_neighbors=9 ...................................................\n",
      "[CV]  n_neighbors=9, Accuracy=0.616, F1=0.631, MCC=0.463, Precision=0.658, Recall=0.620, total=   2.1s\n",
      "[CV] n_neighbors=9 ...................................................\n",
      "[CV]  n_neighbors=9, Accuracy=0.610, F1=0.633, MCC=0.459, Precision=0.663, Recall=0.622, total=   2.1s\n",
      "[CV] n_neighbors=9 ...................................................\n",
      "[CV]  n_neighbors=9, Accuracy=0.613, F1=0.636, MCC=0.461, Precision=0.665, Recall=0.623, total=   2.0s\n",
      "[CV] n_neighbors=9 ...................................................\n",
      "[CV]  n_neighbors=9, Accuracy=0.623, F1=0.641, MCC=0.477, Precision=0.669, Recall=0.630, total=   2.0s\n",
      "[CV] n_neighbors=10 ..................................................\n",
      "[CV]  n_neighbors=10, Accuracy=0.616, F1=0.634, MCC=0.469, Precision=0.671, Recall=0.623, total=   2.0s\n",
      "[CV] n_neighbors=10 ..................................................\n",
      "[CV]  n_neighbors=10, Accuracy=0.611, F1=0.626, MCC=0.459, Precision=0.653, Recall=0.616, total=   2.2s\n",
      "[CV] n_neighbors=10 ..................................................\n",
      "[CV]  n_neighbors=10, Accuracy=0.617, F1=0.641, MCC=0.470, Precision=0.671, Recall=0.631, total=   2.1s\n",
      "[CV] n_neighbors=10 ..................................................\n",
      "[CV]  n_neighbors=10, Accuracy=0.602, F1=0.625, MCC=0.447, Precision=0.658, Recall=0.612, total=   2.0s\n",
      "[CV] n_neighbors=10 ..................................................\n",
      "[CV]  n_neighbors=10, Accuracy=0.618, F1=0.635, MCC=0.471, Precision=0.664, Recall=0.625, total=   2.1s\n",
      "[CV] n_neighbors=15 ..................................................\n"
     ]
    },
    {
     "name": "stdout",
     "output_type": "stream",
     "text": [
      "[CV]  n_neighbors=15, Accuracy=0.624, F1=0.642, MCC=0.477, Precision=0.674, Recall=0.629, total=   2.2s\n",
      "[CV] n_neighbors=15 ..................................................\n",
      "[CV]  n_neighbors=15, Accuracy=0.621, F1=0.638, MCC=0.470, Precision=0.664, Recall=0.627, total=   2.1s\n",
      "[CV] n_neighbors=15 ..................................................\n",
      "[CV]  n_neighbors=15, Accuracy=0.628, F1=0.645, MCC=0.484, Precision=0.681, Recall=0.634, total=   2.0s\n",
      "[CV] n_neighbors=15 ..................................................\n",
      "[CV]  n_neighbors=15, Accuracy=0.608, F1=0.634, MCC=0.454, Precision=0.670, Recall=0.619, total=   2.0s\n",
      "[CV] n_neighbors=15 ..................................................\n",
      "[CV]  n_neighbors=15, Accuracy=0.616, F1=0.637, MCC=0.466, Precision=0.671, Recall=0.625, total=   2.0s\n",
      "[CV] n_neighbors=20 ..................................................\n",
      "[CV]  n_neighbors=20, Accuracy=0.618, F1=0.635, MCC=0.469, Precision=0.664, Recall=0.625, total=   2.1s\n",
      "[CV] n_neighbors=20 ..................................................\n",
      "[CV]  n_neighbors=20, Accuracy=0.617, F1=0.640, MCC=0.466, Precision=0.672, Recall=0.629, total=   2.1s\n",
      "[CV] n_neighbors=20 ..................................................\n",
      "[CV]  n_neighbors=20, Accuracy=0.614, F1=0.632, MCC=0.464, Precision=0.668, Recall=0.622, total=   2.4s\n",
      "[CV] n_neighbors=20 ..................................................\n",
      "[CV]  n_neighbors=20, Accuracy=0.603, F1=0.629, MCC=0.448, Precision=0.668, Recall=0.615, total=   2.1s\n",
      "[CV] n_neighbors=20 ..................................................\n",
      "[CV]  n_neighbors=20, Accuracy=0.613, F1=0.634, MCC=0.462, Precision=0.669, Recall=0.623, total=   2.1s\n",
      "[CV] n_neighbors=25 ..................................................\n",
      "[CV]  n_neighbors=25, Accuracy=0.627, F1=0.643, MCC=0.482, Precision=0.676, Recall=0.630, total=   2.4s\n",
      "[CV] n_neighbors=25 ..................................................\n",
      "[CV]  n_neighbors=25, Accuracy=0.627, F1=0.643, MCC=0.479, Precision=0.678, Recall=0.630, total=   2.1s\n",
      "[CV] n_neighbors=25 ..................................................\n",
      "[CV]  n_neighbors=25, Accuracy=0.624, F1=0.641, MCC=0.478, Precision=0.678, Recall=0.631, total=   2.1s\n",
      "[CV] n_neighbors=25 ..................................................\n",
      "[CV]  n_neighbors=25, Accuracy=0.610, F1=0.634, MCC=0.458, Precision=0.675, Recall=0.620, total=   2.0s\n",
      "[CV] n_neighbors=25 ..................................................\n",
      "[CV]  n_neighbors=25, Accuracy=0.615, F1=0.633, MCC=0.465, Precision=0.669, Recall=0.622, total=   2.0s\n",
      "[CV] n_neighbors=30 ..................................................\n",
      "[CV]  n_neighbors=30, Accuracy=0.631, F1=0.648, MCC=0.487, Precision=0.683, Recall=0.636, total=   2.0s\n",
      "[CV] n_neighbors=30 ..................................................\n",
      "[CV]  n_neighbors=30, Accuracy=0.627, F1=0.644, MCC=0.480, Precision=0.680, Recall=0.632, total=   2.1s\n",
      "[CV] n_neighbors=30 ..................................................\n",
      "[CV]  n_neighbors=30, Accuracy=0.613, F1=0.632, MCC=0.464, Precision=0.671, Recall=0.622, total=   2.0s\n",
      "[CV] n_neighbors=30 ..................................................\n",
      "[CV]  n_neighbors=30, Accuracy=0.609, F1=0.633, MCC=0.457, Precision=0.678, Recall=0.617, total=   2.0s\n",
      "[CV] n_neighbors=30 ..................................................\n",
      "[CV]  n_neighbors=30, Accuracy=0.616, F1=0.635, MCC=0.467, Precision=0.669, Recall=0.625, total=   2.0s\n",
      "Best peknnormance: 0.6206515737161789\n",
      "With the hyperparameters: {'n_neighbors': 25}\n"
     ]
    },
    {
     "name": "stderr",
     "output_type": "stream",
     "text": [
      "[Parallel(n_jobs=1)]: Done  70 out of  70 | elapsed:  2.5min finished\n"
     ]
    },
    {
     "data": {
      "text/html": [
       "<div>\n",
       "<style scoped>\n",
       "    .dataframe tbody tr th:only-of-type {\n",
       "        vertical-align: middle;\n",
       "    }\n",
       "\n",
       "    .dataframe tbody tr th {\n",
       "        vertical-align: top;\n",
       "    }\n",
       "\n",
       "    .dataframe thead th {\n",
       "        text-align: right;\n",
       "    }\n",
       "</style>\n",
       "<table border=\"1\" class=\"dataframe\">\n",
       "  <thead>\n",
       "    <tr style=\"text-align: right;\">\n",
       "      <th></th>\n",
       "      <th>0</th>\n",
       "      <th>1</th>\n",
       "      <th>2</th>\n",
       "      <th>3</th>\n",
       "      <th>4</th>\n",
       "      <th>5</th>\n",
       "      <th>6</th>\n",
       "      <th>7</th>\n",
       "      <th>8</th>\n",
       "      <th>9</th>\n",
       "      <th>10</th>\n",
       "      <th>11</th>\n",
       "      <th>12</th>\n",
       "      <th>13</th>\n",
       "    </tr>\n",
       "  </thead>\n",
       "  <tbody>\n",
       "    <tr>\n",
       "      <th>params</th>\n",
       "      <td>{'n_neighbors': 1}</td>\n",
       "      <td>{'n_neighbors': 2}</td>\n",
       "      <td>{'n_neighbors': 3}</td>\n",
       "      <td>{'n_neighbors': 4}</td>\n",
       "      <td>{'n_neighbors': 5}</td>\n",
       "      <td>{'n_neighbors': 6}</td>\n",
       "      <td>{'n_neighbors': 7}</td>\n",
       "      <td>{'n_neighbors': 8}</td>\n",
       "      <td>{'n_neighbors': 9}</td>\n",
       "      <td>{'n_neighbors': 10}</td>\n",
       "      <td>{'n_neighbors': 15}</td>\n",
       "      <td>{'n_neighbors': 20}</td>\n",
       "      <td>{'n_neighbors': 25}</td>\n",
       "      <td>{'n_neighbors': 30}</td>\n",
       "    </tr>\n",
       "    <tr>\n",
       "      <th>mean_test_Accuracy</th>\n",
       "      <td>0.5809</td>\n",
       "      <td>0.5579</td>\n",
       "      <td>0.5991</td>\n",
       "      <td>0.5913</td>\n",
       "      <td>0.6027</td>\n",
       "      <td>0.6057</td>\n",
       "      <td>0.6125</td>\n",
       "      <td>0.6054</td>\n",
       "      <td>0.6172</td>\n",
       "      <td>0.6128</td>\n",
       "      <td>0.6193</td>\n",
       "      <td>0.613</td>\n",
       "      <td>0.6207</td>\n",
       "      <td>0.619</td>\n",
       "    </tr>\n",
       "    <tr>\n",
       "      <th>std_test_Accuracy</th>\n",
       "      <td>0.013</td>\n",
       "      <td>0.0073</td>\n",
       "      <td>0.0089</td>\n",
       "      <td>0.0066</td>\n",
       "      <td>0.0101</td>\n",
       "      <td>0.0032</td>\n",
       "      <td>0.008</td>\n",
       "      <td>0.0053</td>\n",
       "      <td>0.0053</td>\n",
       "      <td>0.0061</td>\n",
       "      <td>0.0068</td>\n",
       "      <td>0.0053</td>\n",
       "      <td>0.0068</td>\n",
       "      <td>0.0085</td>\n",
       "    </tr>\n",
       "    <tr>\n",
       "      <th>mean_test_Precision</th>\n",
       "      <td>0.6009</td>\n",
       "      <td>0.6188</td>\n",
       "      <td>0.6471</td>\n",
       "      <td>0.6448</td>\n",
       "      <td>0.6472</td>\n",
       "      <td>0.6619</td>\n",
       "      <td>0.6607</td>\n",
       "      <td>0.6587</td>\n",
       "      <td>0.6652</td>\n",
       "      <td>0.6634</td>\n",
       "      <td>0.672</td>\n",
       "      <td>0.6682</td>\n",
       "      <td>0.675</td>\n",
       "      <td>0.6762</td>\n",
       "    </tr>\n",
       "    <tr>\n",
       "      <th>std_test_Precision</th>\n",
       "      <td>0.0141</td>\n",
       "      <td>0.0062</td>\n",
       "      <td>0.0065</td>\n",
       "      <td>0.0071</td>\n",
       "      <td>0.0077</td>\n",
       "      <td>0.0029</td>\n",
       "      <td>0.0059</td>\n",
       "      <td>0.0064</td>\n",
       "      <td>0.0049</td>\n",
       "      <td>0.0071</td>\n",
       "      <td>0.0055</td>\n",
       "      <td>0.0027</td>\n",
       "      <td>0.0033</td>\n",
       "      <td>0.0055</td>\n",
       "    </tr>\n",
       "    <tr>\n",
       "      <th>mean_test_Recall</th>\n",
       "      <td>0.5851</td>\n",
       "      <td>0.5597</td>\n",
       "      <td>0.5981</td>\n",
       "      <td>0.5988</td>\n",
       "      <td>0.6091</td>\n",
       "      <td>0.6136</td>\n",
       "      <td>0.6208</td>\n",
       "      <td>0.6154</td>\n",
       "      <td>0.6242</td>\n",
       "      <td>0.6213</td>\n",
       "      <td>0.6268</td>\n",
       "      <td>0.6226</td>\n",
       "      <td>0.6267</td>\n",
       "      <td>0.6265</td>\n",
       "    </tr>\n",
       "    <tr>\n",
       "      <th>std_test_Recall</th>\n",
       "      <td>0.0134</td>\n",
       "      <td>0.005</td>\n",
       "      <td>0.0074</td>\n",
       "      <td>0.0042</td>\n",
       "      <td>0.0086</td>\n",
       "      <td>0.0031</td>\n",
       "      <td>0.0058</td>\n",
       "      <td>0.0059</td>\n",
       "      <td>0.0035</td>\n",
       "      <td>0.0069</td>\n",
       "      <td>0.0049</td>\n",
       "      <td>0.0043</td>\n",
       "      <td>0.0051</td>\n",
       "      <td>0.0069</td>\n",
       "    </tr>\n",
       "    <tr>\n",
       "      <th>mean_test_F1</th>\n",
       "      <td>0.5901</td>\n",
       "      <td>0.5607</td>\n",
       "      <td>0.6142</td>\n",
       "      <td>0.6092</td>\n",
       "      <td>0.6202</td>\n",
       "      <td>0.6253</td>\n",
       "      <td>0.6323</td>\n",
       "      <td>0.6256</td>\n",
       "      <td>0.6359</td>\n",
       "      <td>0.632</td>\n",
       "      <td>0.6392</td>\n",
       "      <td>0.634</td>\n",
       "      <td>0.639</td>\n",
       "      <td>0.6384</td>\n",
       "    </tr>\n",
       "    <tr>\n",
       "      <th>std_test_F1</th>\n",
       "      <td>0.0141</td>\n",
       "      <td>0.0056</td>\n",
       "      <td>0.0071</td>\n",
       "      <td>0.0052</td>\n",
       "      <td>0.0082</td>\n",
       "      <td>0.002</td>\n",
       "      <td>0.0056</td>\n",
       "      <td>0.0052</td>\n",
       "      <td>0.0035</td>\n",
       "      <td>0.006</td>\n",
       "      <td>0.0037</td>\n",
       "      <td>0.0035</td>\n",
       "      <td>0.0042</td>\n",
       "      <td>0.0063</td>\n",
       "    </tr>\n",
       "    <tr>\n",
       "      <th>mean_test_MCC</th>\n",
       "      <td>0.4153</td>\n",
       "      <td>0.4077</td>\n",
       "      <td>0.4405</td>\n",
       "      <td>0.4367</td>\n",
       "      <td>0.4478</td>\n",
       "      <td>0.4565</td>\n",
       "      <td>0.4609</td>\n",
       "      <td>0.4548</td>\n",
       "      <td>0.4674</td>\n",
       "      <td>0.4632</td>\n",
       "      <td>0.4704</td>\n",
       "      <td>0.4619</td>\n",
       "      <td>0.4723</td>\n",
       "      <td>0.4708</td>\n",
       "    </tr>\n",
       "    <tr>\n",
       "      <th>std_test_MCC</th>\n",
       "      <td>0.0175</td>\n",
       "      <td>0.0102</td>\n",
       "      <td>0.0123</td>\n",
       "      <td>0.009</td>\n",
       "      <td>0.0141</td>\n",
       "      <td>0.0048</td>\n",
       "      <td>0.0107</td>\n",
       "      <td>0.0086</td>\n",
       "      <td>0.0077</td>\n",
       "      <td>0.0092</td>\n",
       "      <td>0.0101</td>\n",
       "      <td>0.0074</td>\n",
       "      <td>0.0094</td>\n",
       "      <td>0.0112</td>\n",
       "    </tr>\n",
       "  </tbody>\n",
       "</table>\n",
       "</div>"
      ],
      "text/plain": [
       "                                      0                   1  \\\n",
       "params               {'n_neighbors': 1}  {'n_neighbors': 2}   \n",
       "mean_test_Accuracy               0.5809              0.5579   \n",
       "std_test_Accuracy                 0.013              0.0073   \n",
       "mean_test_Precision              0.6009              0.6188   \n",
       "std_test_Precision               0.0141              0.0062   \n",
       "mean_test_Recall                 0.5851              0.5597   \n",
       "std_test_Recall                  0.0134               0.005   \n",
       "mean_test_F1                     0.5901              0.5607   \n",
       "std_test_F1                      0.0141              0.0056   \n",
       "mean_test_MCC                    0.4153              0.4077   \n",
       "std_test_MCC                     0.0175              0.0102   \n",
       "\n",
       "                                      2                   3  \\\n",
       "params               {'n_neighbors': 3}  {'n_neighbors': 4}   \n",
       "mean_test_Accuracy               0.5991              0.5913   \n",
       "std_test_Accuracy                0.0089              0.0066   \n",
       "mean_test_Precision              0.6471              0.6448   \n",
       "std_test_Precision               0.0065              0.0071   \n",
       "mean_test_Recall                 0.5981              0.5988   \n",
       "std_test_Recall                  0.0074              0.0042   \n",
       "mean_test_F1                     0.6142              0.6092   \n",
       "std_test_F1                      0.0071              0.0052   \n",
       "mean_test_MCC                    0.4405              0.4367   \n",
       "std_test_MCC                     0.0123               0.009   \n",
       "\n",
       "                                      4                   5  \\\n",
       "params               {'n_neighbors': 5}  {'n_neighbors': 6}   \n",
       "mean_test_Accuracy               0.6027              0.6057   \n",
       "std_test_Accuracy                0.0101              0.0032   \n",
       "mean_test_Precision              0.6472              0.6619   \n",
       "std_test_Precision               0.0077              0.0029   \n",
       "mean_test_Recall                 0.6091              0.6136   \n",
       "std_test_Recall                  0.0086              0.0031   \n",
       "mean_test_F1                     0.6202              0.6253   \n",
       "std_test_F1                      0.0082               0.002   \n",
       "mean_test_MCC                    0.4478              0.4565   \n",
       "std_test_MCC                     0.0141              0.0048   \n",
       "\n",
       "                                      6                   7  \\\n",
       "params               {'n_neighbors': 7}  {'n_neighbors': 8}   \n",
       "mean_test_Accuracy               0.6125              0.6054   \n",
       "std_test_Accuracy                 0.008              0.0053   \n",
       "mean_test_Precision              0.6607              0.6587   \n",
       "std_test_Precision               0.0059              0.0064   \n",
       "mean_test_Recall                 0.6208              0.6154   \n",
       "std_test_Recall                  0.0058              0.0059   \n",
       "mean_test_F1                     0.6323              0.6256   \n",
       "std_test_F1                      0.0056              0.0052   \n",
       "mean_test_MCC                    0.4609              0.4548   \n",
       "std_test_MCC                     0.0107              0.0086   \n",
       "\n",
       "                                      8                    9  \\\n",
       "params               {'n_neighbors': 9}  {'n_neighbors': 10}   \n",
       "mean_test_Accuracy               0.6172               0.6128   \n",
       "std_test_Accuracy                0.0053               0.0061   \n",
       "mean_test_Precision              0.6652               0.6634   \n",
       "std_test_Precision               0.0049               0.0071   \n",
       "mean_test_Recall                 0.6242               0.6213   \n",
       "std_test_Recall                  0.0035               0.0069   \n",
       "mean_test_F1                     0.6359                0.632   \n",
       "std_test_F1                      0.0035                0.006   \n",
       "mean_test_MCC                    0.4674               0.4632   \n",
       "std_test_MCC                     0.0077               0.0092   \n",
       "\n",
       "                                      10                   11  \\\n",
       "params               {'n_neighbors': 15}  {'n_neighbors': 20}   \n",
       "mean_test_Accuracy                0.6193                0.613   \n",
       "std_test_Accuracy                 0.0068               0.0053   \n",
       "mean_test_Precision                0.672               0.6682   \n",
       "std_test_Precision                0.0055               0.0027   \n",
       "mean_test_Recall                  0.6268               0.6226   \n",
       "std_test_Recall                   0.0049               0.0043   \n",
       "mean_test_F1                      0.6392                0.634   \n",
       "std_test_F1                       0.0037               0.0035   \n",
       "mean_test_MCC                     0.4704               0.4619   \n",
       "std_test_MCC                      0.0101               0.0074   \n",
       "\n",
       "                                      12                   13  \n",
       "params               {'n_neighbors': 25}  {'n_neighbors': 30}  \n",
       "mean_test_Accuracy                0.6207                0.619  \n",
       "std_test_Accuracy                 0.0068               0.0085  \n",
       "mean_test_Precision                0.675               0.6762  \n",
       "std_test_Precision                0.0033               0.0055  \n",
       "mean_test_Recall                  0.6267               0.6265  \n",
       "std_test_Recall                   0.0051               0.0069  \n",
       "mean_test_F1                       0.639               0.6384  \n",
       "std_test_F1                       0.0042               0.0063  \n",
       "mean_test_MCC                     0.4723               0.4708  \n",
       "std_test_MCC                      0.0094               0.0112  "
      ]
     },
     "execution_count": 15,
     "metadata": {},
     "output_type": "execute_result"
    }
   ],
   "source": [
    "from sklearn.neighbors import KNeighborsClassifier\n",
    "\n",
    "# Define some hyperparameters we are going to test\n",
    "param_dist = {\"n_neighbors\":[1,2,3,4,5,6,7,8,9,10,15,20,25,30]}\n",
    "\n",
    "# Make a handle for our model (initialization or our model without fitted parameters)\n",
    "knn = KNeighborsClassifier()\n",
    "\n",
    "knn_random_search_res = cross_validate(knn,\n",
    "                                       full_x,\n",
    "                                       full_y,\n",
    "                                       param_dist,\n",
    "                                       5)\n",
    "\n",
    "print(\"Best peknnormance: %s\" % (knn_random_search_res.best_score_))\n",
    "print(\"With the hyperparameters: %s\" % (knn_random_search_res.best_params_))\n",
    "\n",
    "# Print cross-validation results\n",
    "knn_df = pd.DataFrame.from_dict(knn_random_search_res.cv_results_)[columns].round(4)\n",
    "knn_result = knn_df[knn_df['params']==knn_random_search_res.best_params_].reset_index(drop=True).to_dict('records')[0]\n",
    "table = make_row(table, knn_result, \"KNN\")\n",
    "knn_df.T"
   ]
  },
  {
   "cell_type": "markdown",
   "metadata": {},
   "source": [
    "### Get Table"
   ]
  },
  {
   "cell_type": "code",
   "execution_count": 16,
   "metadata": {},
   "outputs": [
    {
     "name": "stdout",
     "output_type": "stream",
     "text": [
      "\\begin{tabular}{lllllll}\n",
      "\\toprule\n",
      "{} & Model &   Accuracy (\\%) &      Precision &         Recall &     F\\$1\\$-Score &            MCC \\\\\n",
      "\\midrule\n",
      "0 &    RF &   0.6673±0.009 &  0.6943±0.0096 &  0.6794±0.0045 &   0.6854±0.006 &  0.5332±0.0123 \\\\\n",
      "1 &   MLP &  0.6242±0.0102 &  0.6499±0.0079 &  0.6452±0.0091 &  0.6473±0.0082 &  0.4742±0.0142 \\\\\n",
      "2 &   SVM &  0.6801±0.0139 &   0.705±0.0113 &  0.7005±0.0116 &  0.7023±0.0113 &  0.5532±0.0193 \\\\\n",
      "3 &   GNB &    0.541±0.004 &  0.5628±0.0051 &   0.5817±0.003 &   0.555±0.0027 &   0.3847±0.007 \\\\\n",
      "4 &   LDA &  0.6121±0.0102 &  0.6366±0.0066 &  0.6266±0.0113 &  0.6301±0.0086 &  0.4571±0.0155 \\\\\n",
      "5 &   KNN &  0.6207±0.0068 &   0.675±0.0033 &  0.6267±0.0051 &   0.639±0.0042 &  0.4723±0.0094 \\\\\n",
      "\\bottomrule\n",
      "\\end{tabular}\n",
      "\n"
     ]
    }
   ],
   "source": [
    "table = pd.DataFrame.from_dict(table)\n",
    "print(table.to_latex())"
   ]
  },
  {
   "cell_type": "markdown",
   "metadata": {},
   "source": [
    "### Re-run Random Forest with final hyperparameters"
   ]
  },
  {
   "cell_type": "code",
   "execution_count": 17,
   "metadata": {},
   "outputs": [],
   "source": [
    "from sklearn.ensemble import RandomForestClassifier\n",
    "rf = RandomForestClassifier(n_estimators=1000, random_state=79)\n",
    "mean_conf_matrix, std_conf_matrix, class_reports = get_conf_matrix(rf, \n",
    "                                                                   full_x.to_numpy(), \n",
    "                                                                   full_y, classes, \n",
    "                                                                   n_splits=5)\n",
    "# Get labels for Confusion matrix plot\n",
    "mean_str = mean_conf_matrix.astype(str)\n",
    "std_str  = std_conf_matrix.astype(str)\n",
    "labels = np.core.defchararray.add(mean_str,\"±\\n\")\n",
    "labels = np.core.defchararray.add(labels,std_str)"
   ]
  },
  {
   "cell_type": "code",
   "execution_count": 18,
   "metadata": {},
   "outputs": [
    {
     "data": {
      "text/plain": [
       "RandomForestClassifier(bootstrap=True, ccp_alpha=0.0, class_weight=None,\n",
       "                       criterion='gini', max_depth=None, max_features='auto',\n",
       "                       max_leaf_nodes=None, max_samples=None,\n",
       "                       min_impurity_decrease=0.0, min_impurity_split=None,\n",
       "                       min_samples_leaf=1, min_samples_split=2,\n",
       "                       min_weight_fraction_leaf=0.0, n_estimators=1000,\n",
       "                       n_jobs=None, oob_score=False, random_state=79, verbose=0,\n",
       "                       warm_start=False)"
      ]
     },
     "execution_count": 18,
     "metadata": {},
     "output_type": "execute_result"
    }
   ],
   "source": [
    "from sklearn.ensemble import RandomForestClassifier\n",
    "rf = RandomForestClassifier(n_estimators=1000, random_state=79)\n",
    "rf.fit(full_x, full_y)"
   ]
  },
  {
   "cell_type": "code",
   "execution_count": 19,
   "metadata": {},
   "outputs": [
    {
     "data": {
      "image/png": "[encoded data removed]",
      "text/plain": [
       "<Figure size 2160x720 with 1 Axes>"
      ]
     },
     "metadata": {
      "needs_background": "light"
     },
     "output_type": "display_data"
    }
   ],
   "source": [
    "# Feature Importance\n",
    "importances = rf.feature_importances_\n",
    "std = np.std([tree.feature_importances_ for tree in rf.estimators_],\n",
    "             axis=0)\n",
    "indices = np.argsort(importances)[::-1]\n",
    "\n",
    "# Plot the feature importances of the forest\n",
    "plt.figure(figsize=(30,10))\n",
    "plt.title(\"Feature importances\")\n",
    "plt.bar(range(train_x.shape[1]), \n",
    "        importances[indices], \n",
    "        color=\"r\", yerr=std[indices], align=\"center\")\n",
    "plt.xticks(range(train_x.shape[1]), indices)\n",
    "plt.xlim([-1, train_x.shape[1]])\n",
    "plt.xlabel(\"Features\")\n",
    "plt.ylabel(\"Importance\")\n",
    "plt.grid()\n",
    "plt.show()"
   ]
  },
  {
   "cell_type": "code",
   "execution_count": 20,
   "metadata": {
    "scrolled": false
   },
   "outputs": [
    {
     "data": {
      "image/png": "[encoded data removed]",
      "text/plain": [
       "<Figure size 1152x864 with 2 Axes>"
      ]
     },
     "metadata": {
      "needs_background": "light"
     },
     "output_type": "display_data"
    }
   ],
   "source": [
    "plt.rcParams.update({'font.size': 24})\n",
    "# Plot averaged confusion matrix\n",
    "df_cm = pd.DataFrame(mean_conf_matrix, \n",
    "                     index = classes,\n",
    "                     columns = classes)\n",
    "plt.figure(figsize = (16,12))\n",
    "sns.heatmap(df_cm, annot=labels, fmt='', cmap='Blues',\n",
    "            cbar=True, square=True, center=15,\n",
    "            linewidths=.1, linecolor='black')\n",
    "plt.ylim((4,0))\n",
    "plt.title(\"Confusion Matrix \\n Mean Confusion Error (Counts) ± Std\")\n",
    "plt.ylabel('True label')\n",
    "plt.xlabel('Predicted label')\n",
    "plt.tight_layout()\n",
    "# plt.savefig(\"confusion_matrix.pdf\", format=\"pdf\")\n",
    "plt.show()"
   ]
  },
  {
   "cell_type": "code",
   "execution_count": 21,
   "metadata": {},
   "outputs": [
    {
     "name": "stdout",
     "output_type": "stream",
     "text": [
      "\\begin{tabular}{llll}\n",
      "\\toprule\n",
      "{} &                0 &                1 &                2 \\\\\n",
      "\\midrule\n",
      "Cytosolic     &  0.5812\\textbackslash pm0.0253 &  0.5657\\textbackslash pm0.0227 &   0.573\\textbackslash pm0.0197 \\\\\n",
      "Secreted      &  0.8039\\textbackslash pm0.0155 &  0.8159\\textbackslash pm0.0091 &  0.8098\\textbackslash pm0.0106 \\\\\n",
      "Mitochondrial &    0.74\\textbackslash pm0.0352 &   0.6384\\textbackslash pm0.021 &   0.6847\\textbackslash pm0.017 \\\\\n",
      "Nuclear       &  0.6522\\textbackslash pm0.0054 &  0.6976\\textbackslash pm0.0269 &   0.674\\textbackslash pm0.0139 \\\\\n",
      "\\bottomrule\n",
      "\\end{tabular}\n",
      "\n"
     ]
    }
   ],
   "source": [
    "# Classification Report\n",
    "class_reports = np.array(class_reports)\n",
    "pd.DataFrame(class_reports[:3,:]).T\n",
    "print(pd.DataFrame(class_reports[:3,:], columns=classes).T.to_latex())"
   ]
  },
  {
   "cell_type": "markdown",
   "metadata": {},
   "source": [
    "### Test on blind test data"
   ]
  },
  {
   "cell_type": "code",
   "execution_count": 22,
   "metadata": {},
   "outputs": [],
   "source": [
    "class_labels = ['Cyto', 'Secr', 'Mito', 'Nucl']\n",
    "pred = rf.predict_proba(blind_test_x )\n",
    "seq_id = [seq.id for seq in blind_test_xs]"
   ]
  },
  {
   "cell_type": "code",
   "execution_count": 23,
   "metadata": {},
   "outputs": [
    {
     "data": {
      "text/html": [
       "<div>\n",
       "<style scoped>\n",
       "    .dataframe tbody tr th:only-of-type {\n",
       "        vertical-align: middle;\n",
       "    }\n",
       "\n",
       "    .dataframe tbody tr th {\n",
       "        vertical-align: top;\n",
       "    }\n",
       "\n",
       "    .dataframe thead th {\n",
       "        text-align: right;\n",
       "    }\n",
       "</style>\n",
       "<table border=\"1\" class=\"dataframe\">\n",
       "  <thead>\n",
       "    <tr style=\"text-align: right;\">\n",
       "      <th></th>\n",
       "      <th>0</th>\n",
       "      <th>1</th>\n",
       "    </tr>\n",
       "  </thead>\n",
       "  <tbody>\n",
       "    <tr>\n",
       "      <th>SEQ677</th>\n",
       "      <td>Secr</td>\n",
       "      <td>40</td>\n",
       "    </tr>\n",
       "    <tr>\n",
       "      <th>SEQ231</th>\n",
       "      <td>Secr</td>\n",
       "      <td>57</td>\n",
       "    </tr>\n",
       "    <tr>\n",
       "      <th>SEQ871</th>\n",
       "      <td>Secr</td>\n",
       "      <td>55</td>\n",
       "    </tr>\n",
       "    <tr>\n",
       "      <th>SEQ388</th>\n",
       "      <td>Nucl</td>\n",
       "      <td>71</td>\n",
       "    </tr>\n",
       "    <tr>\n",
       "      <th>SEQ122</th>\n",
       "      <td>Nucl</td>\n",
       "      <td>69</td>\n",
       "    </tr>\n",
       "    <tr>\n",
       "      <th>SEQ758</th>\n",
       "      <td>Nucl</td>\n",
       "      <td>80</td>\n",
       "    </tr>\n",
       "    <tr>\n",
       "      <th>SEQ333</th>\n",
       "      <td>Cyto</td>\n",
       "      <td>43</td>\n",
       "    </tr>\n",
       "    <tr>\n",
       "      <th>SEQ937</th>\n",
       "      <td>Cyto</td>\n",
       "      <td>67</td>\n",
       "    </tr>\n",
       "    <tr>\n",
       "      <th>SEQ351</th>\n",
       "      <td>Cyto</td>\n",
       "      <td>45</td>\n",
       "    </tr>\n",
       "    <tr>\n",
       "      <th>SEQ202</th>\n",
       "      <td>Mito</td>\n",
       "      <td>72</td>\n",
       "    </tr>\n",
       "    <tr>\n",
       "      <th>SEQ608</th>\n",
       "      <td>Mito</td>\n",
       "      <td>79</td>\n",
       "    </tr>\n",
       "    <tr>\n",
       "      <th>SEQ402</th>\n",
       "      <td>Mito</td>\n",
       "      <td>70</td>\n",
       "    </tr>\n",
       "    <tr>\n",
       "      <th>SEQ433</th>\n",
       "      <td>Nucl</td>\n",
       "      <td>31</td>\n",
       "    </tr>\n",
       "    <tr>\n",
       "      <th>SEQ821</th>\n",
       "      <td>Secr</td>\n",
       "      <td>85</td>\n",
       "    </tr>\n",
       "    <tr>\n",
       "      <th>SEQ322</th>\n",
       "      <td>Nucl</td>\n",
       "      <td>91</td>\n",
       "    </tr>\n",
       "    <tr>\n",
       "      <th>SEQ982</th>\n",
       "      <td>Nucl</td>\n",
       "      <td>84</td>\n",
       "    </tr>\n",
       "    <tr>\n",
       "      <th>SEQ951</th>\n",
       "      <td>Nucl</td>\n",
       "      <td>46</td>\n",
       "    </tr>\n",
       "    <tr>\n",
       "      <th>SEQ173</th>\n",
       "      <td>Nucl</td>\n",
       "      <td>53</td>\n",
       "    </tr>\n",
       "    <tr>\n",
       "      <th>SEQ862</th>\n",
       "      <td>Mito</td>\n",
       "      <td>67</td>\n",
       "    </tr>\n",
       "    <tr>\n",
       "      <th>SEQ224</th>\n",
       "      <td>Cyto</td>\n",
       "      <td>37</td>\n",
       "    </tr>\n",
       "  </tbody>\n",
       "</table>\n",
       "</div>"
      ],
      "text/plain": [
       "           0   1\n",
       "SEQ677  Secr  40\n",
       "SEQ231  Secr  57\n",
       "SEQ871  Secr  55\n",
       "SEQ388  Nucl  71\n",
       "SEQ122  Nucl  69\n",
       "SEQ758  Nucl  80\n",
       "SEQ333  Cyto  43\n",
       "SEQ937  Cyto  67\n",
       "SEQ351  Cyto  45\n",
       "SEQ202  Mito  72\n",
       "SEQ608  Mito  79\n",
       "SEQ402  Mito  70\n",
       "SEQ433  Nucl  31\n",
       "SEQ821  Secr  85\n",
       "SEQ322  Nucl  91\n",
       "SEQ982  Nucl  84\n",
       "SEQ951  Nucl  46\n",
       "SEQ173  Nucl  53\n",
       "SEQ862  Mito  67\n",
       "SEQ224  Cyto  37"
      ]
     },
     "execution_count": 23,
     "metadata": {},
     "output_type": "execute_result"
    }
   ],
   "source": [
    "blind_test_results = collections.defaultdict(list)\n",
    "for i, seq in enumerate(seq_id):\n",
    "    blind_test_results[seq].extend([class_labels[np.argmax(pred[i,:])], str(int((np.max(pred[i,:])*100).round(0)))])\n",
    "pd.DataFrame.from_dict(blind_test_results).T"
   ]
  },
  {
   "cell_type": "code",
   "execution_count": 24,
   "metadata": {},
   "outputs": [
    {
     "name": "stdout",
     "output_type": "stream",
     "text": [
      "\\begin{tabular}{lll}\n",
      "\\toprule\n",
      "{} &     0 &   1 \\\\\n",
      "\\midrule\n",
      "SEQ677 &  Secr &  40 \\\\\n",
      "SEQ231 &  Secr &  57 \\\\\n",
      "SEQ871 &  Secr &  55 \\\\\n",
      "SEQ388 &  Nucl &  71 \\\\\n",
      "SEQ122 &  Nucl &  69 \\\\\n",
      "SEQ758 &  Nucl &  80 \\\\\n",
      "SEQ333 &  Cyto &  43 \\\\\n",
      "SEQ937 &  Cyto &  67 \\\\\n",
      "SEQ351 &  Cyto &  45 \\\\\n",
      "SEQ202 &  Mito &  72 \\\\\n",
      "SEQ608 &  Mito &  79 \\\\\n",
      "SEQ402 &  Mito &  70 \\\\\n",
      "SEQ433 &  Nucl &  31 \\\\\n",
      "SEQ821 &  Secr &  85 \\\\\n",
      "SEQ322 &  Nucl &  91 \\\\\n",
      "SEQ982 &  Nucl &  84 \\\\\n",
      "SEQ951 &  Nucl &  46 \\\\\n",
      "SEQ173 &  Nucl &  53 \\\\\n",
      "SEQ862 &  Mito &  67 \\\\\n",
      "SEQ224 &  Cyto &  37 \\\\\n",
      "\\bottomrule\n",
      "\\end{tabular}\n",
      "\n"
     ]
    }
   ],
   "source": [
    "print(pd.DataFrame.from_dict(blind_test_results).T.to_latex())"
   ]
  },
  {
   "cell_type": "code",
   "execution_count": 25,
   "metadata": {},
   "outputs": [
    {
     "data": {
      "text/plain": [
       "RandomForestClassifier(bootstrap=True, ccp_alpha=0.0, class_weight=None,\n",
       "                       criterion='gini', max_depth=None, max_features='auto',\n",
       "                       max_leaf_nodes=None, max_samples=None,\n",
       "                       min_impurity_decrease=0.0, min_impurity_split=None,\n",
       "                       min_samples_leaf=1, min_samples_split=2,\n",
       "                       min_weight_fraction_leaf=0.0, n_estimators=1000,\n",
       "                       n_jobs=None, oob_score=False, random_state=79, verbose=0,\n",
       "                       warm_start=False)"
      ]
     },
     "execution_count": 25,
     "metadata": {},
     "output_type": "execute_result"
    }
   ],
   "source": [
    "# rf = SVC(C=5,random_state=79,probability=True)\n",
    "rf = RandomForestClassifier(n_estimators=1000, random_state=79)\n",
    "rf.fit(train_x, train_y)"
   ]
  },
  {
   "cell_type": "code",
   "execution_count": 26,
   "metadata": {},
   "outputs": [],
   "source": [
    "pred_proba_test = rf.predict_proba(test_x)\n",
    "pred_proba_test_label = np.argmax(pred_proba_test,axis=1)\n",
    "pred_proba_test_conf = np.max(pred_proba_test,axis=1)"
   ]
  },
  {
   "cell_type": "code",
   "execution_count": 27,
   "metadata": {},
   "outputs": [
    {
     "data": {
      "text/plain": [
       "0.4921821086261981"
      ]
     },
     "execution_count": 27,
     "metadata": {},
     "output_type": "execute_result"
    }
   ],
   "source": [
    "pred_proba_test_conf[test_y!=pred_proba_test_label].mean()"
   ]
  },
  {
   "cell_type": "code",
   "execution_count": 28,
   "metadata": {},
   "outputs": [
    {
     "data": {
      "text/plain": [
       "0.5908821548821549"
      ]
     },
     "execution_count": 28,
     "metadata": {},
     "output_type": "execute_result"
    }
   ],
   "source": [
    "pred_proba_test_conf[test_y==pred_proba_test_label].mean()"
   ]
  }
 ],
 "metadata": {
  "kernelspec": {
   "display_name": "Python 3",
   "language": "python",
   "name": "python3"
  },
  "language_info": {
   "codemirror_mode": {
    "name": "ipython",
    "version": 3
   },
   "file_extension": ".py",
   "mimetype": "text/x-python",
   "name": "python",
   "nbconvert_exporter": "python",
   "pygments_lexer": "ipython3",
   "version": "3.6.8"
  }
 },
 "nbformat": 4,
 "nbformat_minor": 2
}
